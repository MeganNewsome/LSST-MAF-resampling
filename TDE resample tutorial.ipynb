{
 "cells": [
  {
   "cell_type": "markdown",
   "metadata": {},
   "source": [
    "# Step-by-step TDE resampling"
   ]
  },
  {
   "cell_type": "markdown",
   "metadata": {},
   "source": [
    "First, import all packages as needed."
   ]
  },
  {
   "cell_type": "code",
   "execution_count": 104,
   "metadata": {
    "collapsed": true
   },
   "outputs": [],
   "source": [
    "import numpy as np\n",
    "import matplotlib.pyplot as plt\n",
    "%matplotlib inline\n",
    "import healpy as hp\n",
    "import lsst.sims.maf.db as db\n",
    "import lsst.sims.maf.metrics as metrics\n",
    "import lsst.sims.maf.slicers as slicers\n",
    "import lsst.sims.maf.metricBundles as metricBundles\n",
    "import lsst.sims.maf.plots as plots\n",
    "import lsst.sims.maf.utils as utils\n",
    "from astropy.table import Table, Column\n",
    "import json"
   ]
  },
  {
   "cell_type": "markdown",
   "metadata": {},
   "source": [
    "Next, establish where the LSST simulations data is coming from, and where output data will go. This part should still use LSST's operations simulation database - the most recent is \"minion1016\" and is available here: https://www.lsst.org/scientists/simulations/opsim/opsim-survey-data."
   ]
  },
  {
   "cell_type": "code",
   "execution_count": 105,
   "metadata": {
    "collapsed": true
   },
   "outputs": [],
   "source": [
    "runName = 'minion_1016'\n",
    "opsdb = db.OpsimDatabase(runName + '_sqlite.db')\n",
    "outDir = 'Observations Dictionary'\n",
    "resultsDb = db.ResultsDb(outDir)"
   ]
  },
  {
   "cell_type": "markdown",
   "metadata": {},
   "source": [
    "Using MAF, establish points of evaluation, how to evaluate (slice) them, and any constraints. We use the \"pass\" metric to simply retrieve data from the operations simulation without altering it at all, and we slice the data based on RA and Dec values at uniform intervals. The sql constraint can be a limitation on the number of nights observed a limitation on the filters of interest, a combination thereof, etc. Then, the metric, slicer, and constraint are run together as a \"bundle.\" This bundle is then grouped with the previously setup opsim database (so the metrics know from where to retrieve data), the output directory, and the results database. Finally, the grouped bundle is ran to actually process all data."
   ]
  },
  {
   "cell_type": "code",
   "execution_count": 60,
   "metadata": {},
   "outputs": [
    {
     "name": "stdout",
     "output_type": "stream",
     "text": [
      "Querying database with no constraint.\n",
      "Found 2447931 visits\n",
      "Running:  [0]\n",
      "Completed metric generation.\n",
      "Running reduce methods.\n",
      "Running summary statistics.\n",
      "Completed.\n",
      "CPU times: user 30.9 s, sys: 1.25 s, total: 32.2 s\n",
      "Wall time: 32.3 s\n"
     ]
    }
   ],
   "source": [
    "metric = metrics.PassMetric(cols=['expMJD','filter','fiveSigmaDepth'])\n",
    "slicer = slicers.UserPointsSlicer(np.random.uniform(0,360,size=10),np.random.uniform(-60,-30,size=10))\n",
    "sql = ''\n",
    "\n",
    "bundle = metricBundles.MetricBundle(metric,slicer,sql)\n",
    "\n",
    "bg =  metricBundles.MetricBundleGroup({0:bundle}, opsdb, outDir=outDir, resultsDb=resultsDb)\n",
    "%time bg.runAll()"
   ]
  },
  {
   "cell_type": "markdown",
   "metadata": {},
   "source": [
    "# Setting up & Testing functions"
   ]
  },
  {
   "cell_type": "markdown",
   "metadata": {},
   "source": [
    "Now we want to set up a few functions that will be used to set up useful database tables, import outside data from a json file, and interpolate a lightcurve at the points of LSST's observations. While these could all be done on their own rather than set up as functions, this will make the final \"for\" loop overall much easier, since we want a robust system that can iterate over varying RA, Dec, peak magnitudes, and peak times."
   ]
  },
  {
   "cell_type": "markdown",
   "metadata": {},
   "source": [
    "This function simply tables a dictionary of the metric values we previously sliced and bundled, used by calling the \"metricValues\" from the bundle. In this case we have also \"cleaned up\" the table a bit: (1) subtracting the lowest \"expMJD\" value from each \"expMJD\" to have time listed in terms of day of observation, (2) sorting the data to be in order of observation time, and (3) ordering the table's columns. The next optional step is excluding the filters \"u\" and \"y\" because in the case of TDE PS1-10jh, there are not observations in those filters, so this data is unnecessary. This should be changed for a user with data in other filters as needed."
   ]
  },
  {
   "cell_type": "code",
   "execution_count": 118,
   "metadata": {
    "collapsed": true
   },
   "outputs": [],
   "source": [
    "def Survey_Setup(bundle):\n",
    "    opsimlist = []\n",
    "    for coord in range(len(bundle.metricValues)):\n",
    "        bdict = {key: bundle.metricValues[coord][key] for key in ['fieldRA', 'fieldDec', \n",
    "                                                                  'expMJD', 'filter', 'fiveSigmaDepth']}\n",
    "        opsim = Table(bdict)\n",
    "        opsim['expMJD'] = opsim['expMJD'] - opsim['expMJD'].min()\n",
    "        opsim.sort(['expMJD'])\n",
    "        opsim = opsim['fieldRA', 'fieldDec', 'expMJD','filter','fiveSigmaDepth']\n",
    "    \n",
    "        # Only do the following if you need to narrow simulation filters to those matching your lightcurve data\n",
    "        opsim = opsim[opsim['filter'] != 'u']\n",
    "        opsim = opsim[opsim['filter'] != 'y']\n",
    "        opsimlist.append(opsim)\n",
    "    return opsimlist"
   ]
  },
  {
   "cell_type": "markdown",
   "metadata": {},
   "source": [
    "The above function can do without a \"standardized\" test, as it is straightforward and has even been used with different LSST operations simulations databases. Because it uses the metricValues from the bundle, testing this function would also require a test of the already-made and trusted bundling function. We will instead demonstrate how it works below."
   ]
  },
  {
   "cell_type": "code",
   "execution_count": 119,
   "metadata": {},
   "outputs": [
    {
     "data": {
      "text/plain": [
       "[<Table length=658>\n",
       " fieldRA  fieldDec      expMJD     filter fiveSigmaDepth\n",
       " float64  float64      float64     str256    float64    \n",
       " -------- -------- --------------- ------ --------------\n",
       " 4.848377 -0.59551             0.0      i      23.341652\n",
       " 4.848377 -0.59551 0.0121639999998      i      23.307869\n",
       " 4.848377 -0.59551 0.0631599999979      i      23.307569\n",
       " 4.848377 -0.59551 0.0816259999992      i      23.164126\n",
       " 4.848377 -0.59551       16.962656      i      23.294222\n",
       " 4.848377 -0.59551        16.98846      i      23.443892\n",
       " 4.848377 -0.59551        29.13714      z        22.7879\n",
       " 4.848377 -0.59551       29.155923      z      22.646084\n",
       " 4.848377 -0.59551        36.17963      z      21.912231\n",
       " 4.848377 -0.59551        54.92764      i      23.199975\n",
       "      ...      ...             ...    ...            ...\n",
       " 4.848377 -0.59551     3380.738496      z      22.764491\n",
       " 4.848377 -0.59551     3380.750716      z      22.825078\n",
       " 4.848377 -0.59551     3380.763747      z      22.882146\n",
       " 4.848377 -0.59551       3381.7162      z      21.788134\n",
       " 4.848377 -0.59551     3381.735794      z      22.558062\n",
       " 4.848377 -0.59551     3382.717111      z      22.043264\n",
       " 4.848377 -0.59551      3382.74749      z      22.647388\n",
       " 4.848377 -0.59551      3406.74573      i      23.959139\n",
       " 4.848377 -0.59551     3406.759223      i      23.984959\n",
       " 4.848377 -0.59551     3476.752451      z      21.790673, <Table length=656>\n",
       " fieldRA  fieldDec    expMJD   filter fiveSigmaDepth\n",
       " float64  float64    float64   str256    float64    \n",
       " ------- --------- ----------- ------ --------------\n",
       " 4.39823 -1.041833    2.033729      g      24.013256\n",
       " 4.39823 -1.041833    2.048798      g      24.200478\n",
       " 4.39823 -1.041833    7.141437      z      21.630557\n",
       " 4.39823 -1.041833    16.14756      z      22.128922\n",
       " 4.39823 -1.041833   18.144607      z      22.247896\n",
       " 4.39823 -1.041833   25.095245      z      21.948966\n",
       " 4.39823 -1.041833   25.112291      z      21.894448\n",
       " 4.39823 -1.041833   25.114541      z      21.875779\n",
       " 4.39823 -1.041833   25.126769      z      22.114927\n",
       " 4.39823 -1.041833   25.158953      z      21.535863\n",
       "     ...       ...         ...    ...            ...\n",
       " 4.39823 -1.041833  3356.92304      z      22.332457\n",
       " 4.39823 -1.041833 3356.945053      z      22.335285\n",
       " 4.39823 -1.041833 3372.755951      r      24.236354\n",
       " 4.39823 -1.041833 3372.771429      r      24.284921\n",
       " 4.39823 -1.041833 3373.741321      g      24.581549\n",
       " 4.39823 -1.041833 3373.759016      g       24.64742\n",
       " 4.39823 -1.041833 3398.691517      z      22.072593\n",
       " 4.39823 -1.041833 3402.697222      z      21.786614\n",
       " 4.39823 -1.041833 3404.700698      z      21.821345\n",
       " 4.39823 -1.041833 3407.705685      z      21.968564, <Table length=675>\n",
       " fieldRA  fieldDec    expMJD   filter fiveSigmaDepth\n",
       " float64  float64    float64   str256    float64    \n",
       " ------- --------- ----------- ------ --------------\n",
       "     0.0 -0.699034         0.0      z      22.007144\n",
       "     0.0 -0.699034    6.996235      z      21.707059\n",
       "     0.0 -0.699034   10.804637      z      22.308641\n",
       "     0.0 -0.699034    10.82117      z      22.292122\n",
       "     0.0 -0.699034   13.989501      z      21.973572\n",
       "     0.0 -0.699034   14.001949      z      22.249672\n",
       "     0.0 -0.699034   14.986863      z      21.832358\n",
       "     0.0 -0.699034   15.004468      z      21.794683\n",
       "     0.0 -0.699034   15.987924      z      21.511629\n",
       "     0.0 -0.699034   17.937535      i        22.7658\n",
       "     ...       ...         ...    ...            ...\n",
       "     0.0 -0.699034 3419.663543      r      24.392352\n",
       "     0.0 -0.699034 3419.679988      r      24.365531\n",
       "     0.0 -0.699034 3446.697868      r      23.957799\n",
       "     0.0 -0.699034 3454.628402      i      23.921231\n",
       "     0.0 -0.699034 3454.642491      i      23.868651\n",
       "     0.0 -0.699034 3456.683172      r      23.658291\n",
       "     0.0 -0.699034 3461.634595      i      23.107091\n",
       "     0.0 -0.699034 3461.653294      i      23.018938\n",
       "     0.0 -0.699034 3465.628657      z      22.256579\n",
       "     0.0 -0.699034 3465.644298      z       22.17212, <Table length=678>\n",
       " fieldRA   fieldDec    expMJD   filter fiveSigmaDepth\n",
       " float64   float64    float64   str256    float64    \n",
       " -------- --------- ----------- ------ --------------\n",
       " 2.031337 -0.838921    7.028538      i      23.731297\n",
       " 2.031337 -0.838921    9.055089      z      21.922186\n",
       " 2.031337 -0.838921   15.754873      z      22.341893\n",
       " 2.031337 -0.838921   15.773232      z      22.383539\n",
       " 2.031337 -0.838921   16.727637      z      21.899651\n",
       " 2.031337 -0.838921   16.741994      z      21.831731\n",
       " 2.031337 -0.838921   18.026833      i      22.736996\n",
       " 2.031337 -0.838921   18.040339      i       22.68529\n",
       " 2.031337 -0.838921   25.733788      z      21.901669\n",
       " 2.031337 -0.838921   56.713669      z      21.861139\n",
       "      ...       ...         ...    ...            ...\n",
       " 2.031337 -0.838921  3623.96131      r      24.082213\n",
       " 2.031337 -0.838921 3623.978474      r      24.085384\n",
       " 2.031337 -0.838921 3632.816612      i      23.321593\n",
       " 2.031337 -0.838921 3632.839122      i      23.430951\n",
       " 2.031337 -0.838921 3635.820171      g      24.257267\n",
       " 2.031337 -0.838921 3635.844827      g      24.420568\n",
       " 2.031337 -0.838921 3639.845871      i      23.215008\n",
       " 2.031337 -0.838921 3639.858892      i      23.271461\n",
       " 2.031337 -0.838921 3642.887819      z      22.460627\n",
       " 2.031337 -0.838921 3642.905621      z      22.498321, <Table length=656>\n",
       " fieldRA   fieldDec    expMJD   filter fiveSigmaDepth\n",
       " float64   float64    float64   str256    float64    \n",
       " -------- --------- ----------- ------ --------------\n",
       " 4.164555 -0.618574    13.06725      g      24.420066\n",
       " 4.164555 -0.618574   13.084233      g      24.421108\n",
       " 4.164555 -0.618574   16.128484      z      21.557626\n",
       " 4.164555 -0.618574   17.126661      z      21.489447\n",
       " 4.164555 -0.618574   22.889557      r      24.115518\n",
       " 4.164555 -0.618574   22.910974      r      24.362934\n",
       " 4.164555 -0.618574   56.955562      i      23.566656\n",
       " 4.164555 -0.618574   56.975537      i      23.845561\n",
       " 4.164555 -0.618574   57.911313      i      23.579167\n",
       " 4.164555 -0.618574   57.932449      i       23.61955\n",
       "      ...       ...         ...    ...            ...\n",
       " 4.164555 -0.618574 3384.737055      g      24.882901\n",
       " 4.164555 -0.618574 3399.668492      z      21.955677\n",
       " 4.164555 -0.618574 3399.682294      z      21.990067\n",
       " 4.164555 -0.618574 3400.913597      z      22.311149\n",
       " 4.164555 -0.618574 3400.930408      z      22.220065\n",
       " 4.164555 -0.618574 3409.780994      i      24.014288\n",
       " 4.164555 -0.618574 3409.793835      i      24.001831\n",
       " 4.164555 -0.618574 3429.823964      z      22.545823\n",
       " 4.164555 -0.618574 3429.834721      z      22.490321\n",
       " 4.164555 -0.618574 3430.727405      r      23.762306, <Table length=673>\n",
       " fieldRA   fieldDec    expMJD   filter fiveSigmaDepth\n",
       " float64   float64    float64   str256    float64    \n",
       " -------- --------- ----------- ------ --------------\n",
       " 6.249097 -0.746802         0.0      z       21.69403\n",
       " 6.249097 -0.746802    2.002715      z      21.998617\n",
       " 6.249097 -0.746802   12.807355      z      22.332773\n",
       " 6.249097 -0.746802   12.823884      z       22.30881\n",
       " 6.249097 -0.746802   15.991757      z      21.963361\n",
       " 6.249097 -0.746802   16.006019      z      22.236465\n",
       " 6.249097 -0.746802   16.992281      z      21.819091\n",
       " 6.249097 -0.746802   17.008538      z       21.78112\n",
       " 6.249097 -0.746802    17.95463      z      21.665089\n",
       " 6.249097 -0.746802    17.98839      z      21.762013\n",
       "      ...       ...         ...    ...            ...\n",
       " 6.249097 -0.746802 3398.612802      g      24.247223\n",
       " 6.249097 -0.746802 3401.565487      z      21.733558\n",
       " 6.249097 -0.746802 3430.630992      r      24.090266\n",
       " 6.249097 -0.746802 3430.641554      r      24.081912\n",
       " 6.249097 -0.746802  3448.70148      r      23.928658\n",
       " 6.249097 -0.746802 3449.592953      z      21.798328\n",
       " 6.249097 -0.746802  3456.63202      i        23.8961\n",
       " 6.249097 -0.746802 3456.646107      i      23.842311\n",
       " 6.249097 -0.746802 3467.632271      z      22.234274\n",
       " 6.249097 -0.746802  3467.64791      z      22.148494, <Table length=120>\n",
       " fieldRA   fieldDec      expMJD      filter fiveSigmaDepth\n",
       " float64   float64      float64      str256    float64    \n",
       " -------- --------- ---------------- ------ --------------\n",
       " 4.096185 -0.867034              0.0      z       21.29757\n",
       " 4.096185 -0.867034 0.00577200000407      z      21.408511\n",
       " 4.096185 -0.867034  0.0102170000027      z      21.409799\n",
       " 4.096185 -0.867034  0.0160180000021      z      21.409305\n",
       " 4.096185 -0.867034  0.0178030000025      z      21.585225\n",
       " 4.096185 -0.867034  0.0235930000053      z       21.58025\n",
       " 4.096185 -0.867034  0.0307130000001      z      21.836168\n",
       " 4.096185 -0.867034  0.0516930000013      z      21.876532\n",
       " 4.096185 -0.867034  0.0534810000026      z      21.815103\n",
       " 4.096185 -0.867034    3.05033400001      i      22.604812\n",
       "      ...       ...              ...    ...            ...\n",
       " 4.096185 -0.867034       177.846682      r      23.307371\n",
       " 4.096185 -0.867034       184.781377      r      24.144164\n",
       " 4.096185 -0.867034       184.786754      r      24.093633\n",
       " 4.096185 -0.867034       184.859757      r      23.865481\n",
       " 4.096185 -0.867034       184.870903      r      23.937678\n",
       " 4.096185 -0.867034       184.903293      r       23.89007\n",
       " 4.096185 -0.867034       186.823104      g      23.959097\n",
       " 4.096185 -0.867034       186.868963      g      23.724323\n",
       " 4.096185 -0.867034       187.918976      g       23.13577\n",
       " 4.096185 -0.867034       187.936045      g      23.098277, <Table length=659>\n",
       " fieldRA  fieldDec      expMJD     filter fiveSigmaDepth\n",
       " float64  float64      float64     str256    float64    \n",
       " ------- --------- --------------- ------ --------------\n",
       " 4.62151 -0.854628             0.0      i      23.480344\n",
       " 4.62151 -0.854628 0.0148279999994      i      23.617838\n",
       " 4.62151 -0.854628        5.129263      z      22.248503\n",
       " 4.62151 -0.854628        7.138908      z      22.255505\n",
       " 4.62151 -0.854628       14.106681      z      21.894783\n",
       " 4.62151 -0.854628       14.127939      z      21.962587\n",
       " 4.62151 -0.854628       22.147033      z      21.582059\n",
       " 4.62151 -0.854628       23.142461      z      21.551111\n",
       " 4.62151 -0.854628       26.148537      z      22.124075\n",
       " 4.62151 -0.854628        30.14815      z      22.047303\n",
       "     ...       ...             ...    ...            ...\n",
       " 4.62151 -0.854628     3393.684546      z      21.781556\n",
       " 4.62151 -0.854628     3393.705196      r      24.074849\n",
       " 4.62151 -0.854628     3393.717566      r      24.112186\n",
       " 4.62151 -0.854628     3396.681133      z      21.922585\n",
       " 4.62151 -0.854628     3396.693859      z      21.954006\n",
       " 4.62151 -0.854628       3399.6817      z      21.928117\n",
       " 4.62151 -0.854628     3399.703362      z      22.846222\n",
       " 4.62151 -0.854628     3400.692384      z      21.919192\n",
       " 4.62151 -0.854628     3400.712044      z       22.66445\n",
       " 4.62151 -0.854628     3408.848278      i      22.919354, <Table length=676>\n",
       " fieldRA   fieldDec     expMJD    filter fiveSigmaDepth\n",
       " float64   float64     float64    str256    float64    \n",
       " -------- --------- ------------- ------ --------------\n",
       " 2.297847 -0.641423      5.978171      i      23.907588\n",
       " 2.297847 -0.641423 6.00276600001      i       24.00806\n",
       " 2.297847 -0.641423      15.01815      z      21.872063\n",
       " 2.297847 -0.641423     15.028458      z      21.798884\n",
       " 2.297847 -0.641423     17.001866      z      22.591544\n",
       " 2.297847 -0.641423     17.019708      z      22.411758\n",
       " 2.297847 -0.641423     19.063818      i      22.795408\n",
       " 2.297847 -0.641423     25.084366      z      21.491372\n",
       " 2.297847 -0.641423     48.004005      i      22.911363\n",
       " 2.297847 -0.641423     72.720447      z       21.94916\n",
       "      ...       ...           ...    ...            ...\n",
       " 2.297847 -0.641423   3625.929498      r      23.878837\n",
       " 2.297847 -0.641423   3625.944391      r      23.975025\n",
       " 2.297847 -0.641423   3635.966606      g      24.808343\n",
       " 2.297847 -0.641423   3635.984823      g      24.846126\n",
       " 2.297847 -0.641423    3639.86541      i      22.967083\n",
       " 2.297847 -0.641423   3639.878423      i      23.060629\n",
       " 2.297847 -0.641423   3640.872039      z      22.343898\n",
       " 2.297847 -0.641423   3640.883398      z      22.415382\n",
       " 2.297847 -0.641423    3642.90595      z      22.368224\n",
       " 2.297847 -0.641423   3642.923683      z      22.440246, <Table length=673>\n",
       " fieldRA   fieldDec      expMJD     filter fiveSigmaDepth\n",
       " float64   float64      float64     str256    float64    \n",
       " -------- --------- --------------- ------ --------------\n",
       " 2.646307 -0.930366             0.0      z      21.969878\n",
       " 2.646307 -0.930366 0.0180699999983      z      21.905425\n",
       " 2.646307 -0.930366        1.017773      z       21.41801\n",
       " 2.646307 -0.930366        8.928421      i      23.713082\n",
       " 2.646307 -0.930366        8.944784      i      23.821895\n",
       " 2.646307 -0.930366       18.022093      z       21.96747\n",
       " 2.646307 -0.930366       19.940751      i      23.035668\n",
       " 2.646307 -0.930366       19.962546      i      23.217069\n",
       " 2.646307 -0.930366       27.752318      g      23.945457\n",
       " 2.646307 -0.930366       27.767547      g      24.123818\n",
       "      ...       ...             ...    ...            ...\n",
       " 2.646307 -0.930366     3634.894498      i      23.407216\n",
       " 2.646307 -0.930366     3634.911702      i       23.47195\n",
       " 2.646307 -0.930366     3635.882801      r      23.727887\n",
       " 2.646307 -0.930366      3635.89845      r      23.793231\n",
       " 2.646307 -0.930366     3636.877486      g      24.333678\n",
       " 2.646307 -0.930366     3636.896535      g       24.41991\n",
       " 2.646307 -0.930366     3638.883627      r       23.65984\n",
       " 2.646307 -0.930366     3638.896147      r      23.708994\n",
       " 2.646307 -0.930366     3642.856876      z      22.303046\n",
       " 2.646307 -0.930366     3642.880678      z      22.453129]"
      ]
     },
     "execution_count": 119,
     "metadata": {},
     "output_type": "execute_result"
    }
   ],
   "source": [
    "opsimlist = Survey_Setup(bundle)\n",
    "opsimlist"
   ]
  },
  {
   "cell_type": "markdown",
   "metadata": {},
   "source": [
    "Now that we have our operations simulations data selected and ordered, we want to start importing the lightcurve data of the TDE. Actual science procedures utilize the data for TDE PS1-10jh, which can be found here along with plenty of other data for potential TDEs: https://tde.space/. Note that all of these files are in the json format. We will be using a much smaller, made-up json file with arbitrary data in order to \"test\" the function."
   ]
  },
  {
   "cell_type": "code",
   "execution_count": 120,
   "metadata": {
    "collapsed": true
   },
   "outputs": [],
   "source": [
    "def TDE_raw(jsonfile):\n",
    "    # Open and load json file with TDE values\n",
    "    tde_data = open(jsonfile)\n",
    "    tde = json.load(tde_data)\n",
    "    # Set up dictionary for json data\n",
    "    data = {'mjd': [], 'filter': [], 'mag': [], 'magerror': [], 'upperlimit': []}\n",
    "    # Use for loop to call to values within the json file\n",
    "    for entry in tde['jsontest']['photometry']:\n",
    "        # Ignore instances in which 'band' and 'magnitude' have no data\n",
    "        if 'band' in entry and 'magnitude' in entry:\n",
    "            data['mjd'].append(float(entry['time']))\n",
    "            data['filter'].append(entry['band'])\n",
    "            data['mag'].append(float(entry['magnitude']))\n",
    "            # Ignore instances in which 'upperlimit' has no value (i.e. is 'false')\n",
    "            if 'upperlimit' in entry:\n",
    "                data['upperlimit'].append(entry['upperlimit'])\n",
    "            else:\n",
    "                data['upperlimit'].append(False)\n",
    "            # Ignore instances in which 'e_magnitude' has no value (i.e. upperlimit IS the error)\n",
    "            if 'e_magnitude' in entry:\n",
    "                data['magerror'].append(float(entry['e_magnitude']))\n",
    "            else:\n",
    "                data['magerror'].append(99)\n",
    "    # Table the now-full dictionary of TDE data\n",
    "    tde_table = Table(data)\n",
    "    # Update the table to modify the data for magnitude errors no more than 0.3, no upperlimit values,\n",
    "    # mjd in terms of obvservation day number, and filters in only g, r, i, and z.\n",
    "    tde_table = tde_table[tde_table['magerror'] < 0.3]\n",
    "    tde_table = tde_table[tde_table['upperlimit'] == False]\n",
    "    tde_table['mjd'] = tde_table['mjd'] - tde_table['mjd'].min()\n",
    "    tde_table = tde_table[tde_table['filter'] != 'NUV']\n",
    "    tde_table = tde_table[tde_table['filter'] != 'F225W']\n",
    "    return tde_table"
   ]
  },
  {
   "cell_type": "markdown",
   "metadata": {},
   "source": [
    "Below, we run TDE_raw with any .json file, and then plot it to show that it is reading in the data correctly."
   ]
  },
  {
   "cell_type": "code",
   "execution_count": 121,
   "metadata": {},
   "outputs": [
    {
     "data": {
      "text/plain": [
       "<matplotlib.legend.Legend at 0x7f63dd1f2cd0>"
      ]
     },
     "execution_count": 121,
     "metadata": {},
     "output_type": "execute_result"
    },
    {
     "data": {
      "image/png": "[encoded data removed]",
      "text/plain": [
       "<matplotlib.figure.Figure at 0x7f63dd21f790>"
      ]
     },
     "metadata": {},
     "output_type": "display_data"
    }
   ],
   "source": [
    "colors = {'g':'green','r':'red','i':'blue','z':'purple'}\n",
    "tde_table = TDE_raw('jsontest.json')\n",
    "# Plot the lightcurve from the narrowed points with respect to each filter\n",
    "\n",
    "for f in ['g', 'r', 'i', 'z']:\n",
    "    filter_match = tde_table['filter'] == f\n",
    "    plt.errorbar(tde_table['mjd'][filter_match], tde_table['mag'][filter_match], \n",
    "                 yerr=tde_table['magerror'][filter_match], fmt='*', color=colors[f], label = f)\n",
    "plt.ylim(plt.ylim()[::-1])\n",
    "plt.title('jsontest lightcurve')\n",
    "plt.xlabel('Day')\n",
    "plt.ylabel('Magnitude')\n",
    "plt.legend(loc=\"upper left\", bbox_to_anchor=(1,1))"
   ]
  },
  {
   "cell_type": "markdown",
   "metadata": {},
   "source": [
    "The next function identifies where the peak is in your input lightcurve data. This is useful for general analysis, but also allows the peak magnitude and time of peak to be manipulated in each filter later on."
   ]
  },
  {
   "cell_type": "code",
   "execution_count": 122,
   "metadata": {
    "collapsed": true
   },
   "outputs": [],
   "source": [
    "def find_peak(tde_table):\n",
    "    peak = {}\n",
    "    for f in ['g', 'r', 'i', 'z']:\n",
    "        filter_match = np.where(tde_table['filter'] == f)\n",
    "        maxmag = np.amin(tde_table['mag'][filter_match])\n",
    "        row = np.argmin(tde_table['mag'][filter_match])\n",
    "        maxday = tde_table['mjd'][filter_match][row]\n",
    "        peak[f] = (maxday, maxmag)\n",
    "    peak = Table(peak)\n",
    "    peak[''] = ['peaktime', 'peakmag']\n",
    "    peak = peak['', 'g','r','i','z']\n",
    "    return peak"
   ]
  },
  {
   "cell_type": "code",
   "execution_count": 123,
   "metadata": {},
   "outputs": [
    {
     "data": {
      "text/html": [
       "&lt;Table length=2&gt;\n",
       "<table id=\"table140066889027024\" class=\"table-striped table-bordered table-condensed\">\n",
       "<thead><tr><th>col0</th><th>g</th><th>r</th><th>i</th><th>z</th></tr></thead>\n",
       "<thead><tr><th>str8</th><th>float64</th><th>float64</th><th>float64</th><th>float64</th></tr></thead>\n",
       "<tr><td>peaktime</td><td>50.0</td><td>51.0</td><td>52.0</td><td>53.0</td></tr>\n",
       "<tr><td>peakmag</td><td>19.5</td><td>19.7</td><td>19.9</td><td>20.1</td></tr>\n",
       "</table>"
      ],
      "text/plain": [
       "<Table length=2>\n",
       "  col0      g       r       i       z   \n",
       "  str8   float64 float64 float64 float64\n",
       "-------- ------- ------- ------- -------\n",
       "peaktime    50.0    51.0    52.0    53.0\n",
       " peakmag    19.5    19.7    19.9    20.1"
      ]
     },
     "execution_count": 123,
     "metadata": {},
     "output_type": "execute_result"
    }
   ],
   "source": [
    "peak = find_peak(tde_table)\n",
    "peak"
   ]
  },
  {
   "cell_type": "markdown",
   "metadata": {},
   "source": [
    "The following function changes the magnitude and time of the peak for variations of the original lightcurve to be created."
   ]
  },
  {
   "cell_type": "code",
   "execution_count": 124,
   "metadata": {
    "collapsed": true
   },
   "outputs": [],
   "source": [
    "peakdict = {'g':{}, 'r':{'peakday': 51, 'peakmag':19.7},}\n",
    "def shift_peak(outputmag, outputtime, templatepeak, tde_table):\n",
    "    \"\"\"\n",
    "    Shifts peak magnitude and time of peak of a template lightcurve.\n",
    "    \"\"\"\n",
    "    tde_table['mag'] -= templatepeak['r']['peakmag'] - outputmag\n",
    "    tde_table['mjd'] -= templatepeak['r']['peakday'] - outputtime\n",
    "    return tde_table"
   ]
  },
  {
   "cell_type": "markdown",
   "metadata": {},
   "source": [
    "Now we can run shift_peak with given values for the variables of \"outputmag\" and \"outputtime, then test that it indeed produces the new shift we want."
   ]
  },
  {
   "cell_type": "code",
   "execution_count": 129,
   "metadata": {},
   "outputs": [],
   "source": [
    "def test_peakshift(peak):\n",
    "    tde_table = shift_peak(12, 12, peakdict, tde_table)\n",
    "    peak = find_peak(tde_table)\n",
    "    assert peak['r'][0] == 12\n",
    "    assert peak['r'][1] == 12"
   ]
  },
  {
   "cell_type": "code",
   "execution_count": 131,
   "metadata": {},
   "outputs": [
    {
     "ename": "UnboundLocalError",
     "evalue": "local variable 'tde_table' referenced before assignment",
     "output_type": "error",
     "traceback": [
      "\u001b[0;31m---------------------------------------------------------------------------\u001b[0m",
      "\u001b[0;31mUnboundLocalError\u001b[0m                         Traceback (most recent call last)",
      "\u001b[0;32m<ipython-input-131-1930dc680054>\u001b[0m in \u001b[0;36m<module>\u001b[0;34m()\u001b[0m\n\u001b[0;32m----> 1\u001b[0;31m \u001b[0mpeak\u001b[0m \u001b[0;34m=\u001b[0m \u001b[0mtest_peakshift\u001b[0m\u001b[0;34m(\u001b[0m\u001b[0mpeak\u001b[0m\u001b[0;34m)\u001b[0m\u001b[0;34m\u001b[0m\u001b[0m\n\u001b[0m",
      "\u001b[0;32m<ipython-input-129-4c63140f0ee6>\u001b[0m in \u001b[0;36mtest_peakshift\u001b[0;34m(peak)\u001b[0m\n\u001b[1;32m      1\u001b[0m \u001b[0;32mdef\u001b[0m \u001b[0mtest_peakshift\u001b[0m\u001b[0;34m(\u001b[0m\u001b[0mpeak\u001b[0m\u001b[0;34m)\u001b[0m\u001b[0;34m:\u001b[0m\u001b[0;34m\u001b[0m\u001b[0m\n\u001b[0;32m----> 2\u001b[0;31m     \u001b[0mtde_table\u001b[0m \u001b[0;34m=\u001b[0m \u001b[0mshift_peak\u001b[0m\u001b[0;34m(\u001b[0m\u001b[0;36m12\u001b[0m\u001b[0;34m,\u001b[0m \u001b[0;36m12\u001b[0m\u001b[0;34m,\u001b[0m \u001b[0mpeakdict\u001b[0m\u001b[0;34m,\u001b[0m \u001b[0mtde_table\u001b[0m\u001b[0;34m)\u001b[0m\u001b[0;34m\u001b[0m\u001b[0m\n\u001b[0m\u001b[1;32m      3\u001b[0m     \u001b[0mpeak\u001b[0m \u001b[0;34m=\u001b[0m \u001b[0mfind_peak\u001b[0m\u001b[0;34m(\u001b[0m\u001b[0mtde_table\u001b[0m\u001b[0;34m)\u001b[0m\u001b[0;34m\u001b[0m\u001b[0m\n\u001b[1;32m      4\u001b[0m     \u001b[0;32massert\u001b[0m \u001b[0mpeak\u001b[0m\u001b[0;34m[\u001b[0m\u001b[0;34m'r'\u001b[0m\u001b[0;34m]\u001b[0m\u001b[0;34m[\u001b[0m\u001b[0;36m0\u001b[0m\u001b[0;34m]\u001b[0m \u001b[0;34m==\u001b[0m \u001b[0;36m12\u001b[0m\u001b[0;34m\u001b[0m\u001b[0m\n\u001b[1;32m      5\u001b[0m     \u001b[0;32massert\u001b[0m \u001b[0mpeak\u001b[0m\u001b[0;34m[\u001b[0m\u001b[0;34m'r'\u001b[0m\u001b[0;34m]\u001b[0m\u001b[0;34m[\u001b[0m\u001b[0;36m1\u001b[0m\u001b[0;34m]\u001b[0m \u001b[0;34m==\u001b[0m \u001b[0;36m12\u001b[0m\u001b[0;34m\u001b[0m\u001b[0m\n",
      "\u001b[0;31mUnboundLocalError\u001b[0m: local variable 'tde_table' referenced before assignment"
     ]
    }
   ],
   "source": [
    "peak = test_peakshift(peak)"
   ]
  },
  {
   "cell_type": "markdown",
   "metadata": {},
   "source": [
    "Below, we refine the survey to list the days only as far as the lightcurve goes. This changes as we change our day for \"peaktime\" so there is no concern about missing parts of the survey."
   ]
  },
  {
   "cell_type": "code",
   "execution_count": 12,
   "metadata": {},
   "outputs": [],
   "source": [
    "def Survey_Refine(opsim, tde_table):\n",
    "    # Setup empty dictionary for interpolated lightcurve \n",
    "    tde_lc = {}\n",
    "    opsim = opsim[opsim['expMJD'] < tde_table['mjd'].max()]\n",
    "    opsim = opsim[opsim['expMJD'] > tde_table['mjd'].min()]\n",
    "    return opsimlist"
   ]
  },
  {
   "cell_type": "code",
   "execution_count": 13,
   "metadata": {
    "collapsed": true
   },
   "outputs": [],
   "source": [
    "def Interpolate_LC(tde_table, opsim):\n",
    "    # Interpolate lightcurve for days of LSST survey\n",
    "    tde_lc = {}\n",
    "    for f in ['g', 'r', 'i', 'z']:\n",
    "        filter_match = np.where(tde_table['filter'] == f)\n",
    "        tde_lc[f] = np.interp(opsim['expMJD'], tde_table['mjd'][filter_match], tde_table['mag'][filter_match])\n",
    "    tde_lc = Table(tde_lc)\n",
    "    tde_lc['mjd'] = opsim['expMJD']\n",
    "    tde_lc = tde_lc['mjd', 'g', 'r', 'i', 'z']\n",
    "    return tde_lc"
   ]
  },
  {
   "cell_type": "code",
   "execution_count": 14,
   "metadata": {
    "collapsed": true
   },
   "outputs": [],
   "source": [
    "def Survey_Update(opsim, tde_lc):    \n",
    "    # Add a column to the simulation table to include the lightcurve mags, and fill in mag wrt filter\n",
    "    # This also only finds the data from the lightcurve data in which the \"mjd\" matches with the simulation\n",
    "    # Hence this \"resamples\" the lightcurve\n",
    "    opsim['magnitude'] = 0.0\n",
    "    for row in range(len(opsim)):\n",
    "        filterName = opsim['filter'][row]\n",
    "        opsim['magnitude'][row] = tde_lc[filterName][row]\n",
    "    return opsim"
   ]
  },
  {
   "cell_type": "code",
   "execution_count": 15,
   "metadata": {
    "collapsed": true
   },
   "outputs": [],
   "source": [
    "def Find_Error(opsim):\n",
    "    # Find error based off of 5sigDepth, and add it to the table with magnitudes\n",
    "    snr = 5*(10**((-0.4)*(opsim['magnitude'] - opsim['fiveSigmaDepth'])))\n",
    "    tde_err = 2.5/(snr*np.log(10))\n",
    "    opsim['tde_err'] = tde_err\n",
    "    return opsim"
   ]
  },
  {
   "cell_type": "code",
   "execution_count": 16,
   "metadata": {
    "collapsed": true
   },
   "outputs": [],
   "source": [
    "def Peak_Change_Back(peak, tde_table):\n",
    "    magdiff = peak['r'][1] - mag\n",
    "    timediff = peak['r'][0] - day\n",
    "    tde_table['mag'] = tde_table['mag'] + magdiff\n",
    "    tde_table['mjd'] = tde_table['mjd'] + timediff\n",
    "    return tde_table"
   ]
  },
  {
   "cell_type": "code",
   "execution_count": 17,
   "metadata": {},
   "outputs": [],
   "source": [
    "lowestpeakmag = np.arange(19, 22, 1)\n",
    "lowestpeaktime = np.arange(38, 43, 1)\n",
    "colors = {'g':'green','r':'red','i':'blue','z':'purple'}"
   ]
  },
  {
   "cell_type": "code",
   "execution_count": 20,
   "metadata": {},
   "outputs": [
    {
     "name": "stdout",
     "output_type": "stream",
     "text": [
      "[<Table length=120>\n",
      "fieldRA   fieldDec     expMJD     filter fiveSigmaDepth\n",
      "float64   float64     float64     str256    float64    \n",
      "-------- --------- -------------- ------ --------------\n",
      "2.950757 -1.033972 0.990097999995      z       22.12556\n",
      "2.950757 -1.033972       1.003941      z      22.197678\n",
      "2.950757 -1.033972  1.00974099999      z      22.346837\n",
      "2.950757 -1.033972       1.015089      z       22.38935\n",
      "2.950757 -1.033972       1.019745      z      22.508027\n",
      "2.950757 -1.033972       1.024219      z       22.56528\n",
      "2.950757 -1.033972       1.028681      z        22.5019\n",
      "2.950757 -1.033972       1.033158      z      22.497272\n",
      "2.950757 -1.033972       1.038086      z      22.514957\n",
      "2.950757 -1.033972       1.041213      z      22.387228\n",
      "     ...       ...            ...    ...            ...\n",
      "2.950757 -1.033972      176.98457      r      23.377788\n",
      "2.950757 -1.033972     177.018787      r      23.103414\n",
      "2.950757 -1.033972     203.945957      r      23.260005\n",
      "2.950757 -1.033972     206.883325      r      23.468422\n",
      "2.950757 -1.033972     206.897751      r      23.420157\n",
      "2.950757 -1.033972     208.857518      r      23.886503\n",
      "2.950757 -1.033972      208.85937      r      23.923548\n",
      "2.950757 -1.033972     208.939253      r      23.296508\n",
      "2.950757 -1.033972     323.110778      r      23.470197\n",
      "2.950757 -1.033972     323.115923      r      23.396843, <Table length=674>\n",
      "fieldRA   fieldDec      expMJD      filter fiveSigmaDepth\n",
      "float64   float64      float64      str256    float64    \n",
      "-------- --------- ---------------- ------ --------------\n",
      "0.880966 -0.951958 0.00847999999678      g      24.457936\n",
      "0.880966 -0.951958  0.0310030000037      g      24.632178\n",
      "0.880966 -0.951958          1.08419      z      22.002241\n",
      "0.880966 -0.951958         3.021798      i      23.330884\n",
      "0.880966 -0.951958         3.050408      i      23.487248\n",
      "0.880966 -0.951958         3.056367      i       23.63126\n",
      "0.880966 -0.951958         3.079857      i      21.670296\n",
      "0.880966 -0.951958         3.968514      g      24.279863\n",
      "0.880966 -0.951958         3.990083      g      24.178298\n",
      "0.880966 -0.951958         4.951281      i      23.720316\n",
      "     ...       ...              ...    ...            ...\n",
      "0.880966 -0.951958      3372.708231      z      21.508249\n",
      "0.880966 -0.951958      3372.731097      z      22.409516\n",
      "0.880966 -0.951958      3372.792712      r      23.653047\n",
      "0.880966 -0.951958      3372.821704      r        23.7012\n",
      "0.880966 -0.951958      3388.856165      g      24.297332\n",
      "0.880966 -0.951958      3388.871688      g      24.205308\n",
      "0.880966 -0.951958      3392.856578      i      23.808857\n",
      "0.880966 -0.951958      3392.876818      i      23.766635\n",
      "0.880966 -0.951958      3400.843712      r       23.81218\n",
      "0.880966 -0.951958      3400.858877      r       23.73046, <Table length=773>\n",
      "fieldRA   fieldDec    expMJD   filter fiveSigmaDepth\n",
      "float64   float64    float64   str256    float64    \n",
      "-------- --------- ----------- ------ --------------\n",
      "3.769911 -0.978626    4.946372      g      23.925567\n",
      "3.769911 -0.978626    4.964146      g      24.186875\n",
      "3.769911 -0.978626    4.969925      g      24.176304\n",
      "3.769911 -0.978626    4.973952      g      24.245387\n",
      "3.769911 -0.978626    4.978845      g      24.352602\n",
      "3.769911 -0.978626     4.98374      g      24.374355\n",
      "3.769911 -0.978626    4.988639      g      24.365778\n",
      "3.769911 -0.978626    4.991309      g      24.349946\n",
      "3.769911 -0.978626    5.006995      g      24.463929\n",
      "3.769911 -0.978626    5.008777      g      24.544029\n",
      "     ...       ...         ...    ...            ...\n",
      " 3.67398 -0.977006 3429.855068      g      24.630019\n",
      " 3.67398 -0.977006 3429.872236      g      24.585802\n",
      " 3.67398 -0.977006 3437.738269      z      22.128132\n",
      " 3.67398 -0.977006 3437.768776      z      22.116267\n",
      " 3.67398 -0.977006 3456.786009      r      24.424836\n",
      " 3.67398 -0.977006 3456.810627      r      24.359284\n",
      " 3.67398 -0.977006 3478.626664      z      22.218146\n",
      " 3.67398 -0.977006 3478.646449      z      23.370207\n",
      " 3.67398 -0.977006 3478.716424      i      23.827715\n",
      " 3.67398 -0.977006 3478.729234      i      23.799679, <Table length=676>\n",
      "fieldRA   fieldDec      expMJD     filter fiveSigmaDepth\n",
      "float64   float64      float64     str256    float64    \n",
      "-------- --------- --------------- ------ --------------\n",
      "0.930363 -0.867033             0.0      g      24.284573\n",
      "0.930363 -0.867033 0.0215620000017      g      24.256147\n",
      "0.930363 -0.867033 0.0283679999993      g      24.143668\n",
      "0.930363 -0.867033 0.0535569999993      g      24.301815\n",
      "0.930363 -0.867033        1.037857      i      23.784268\n",
      "0.930363 -0.867033        1.057236      i      23.921264\n",
      "0.930363 -0.867033        2.019037      r      24.141548\n",
      "0.930363 -0.867033        2.044932      r      24.032428\n",
      "0.930363 -0.867033        2.047245      r      23.978719\n",
      "0.930363 -0.867033         2.07218      r      24.124561\n",
      "     ...       ...             ...    ...            ...\n",
      "0.930363 -0.867033     3374.776183      z      21.931145\n",
      "0.930363 -0.867033     3374.794853      z      21.962721\n",
      "0.930363 -0.867033     3382.928044      r      24.192947\n",
      "0.930363 -0.867033     3382.946479      r      24.116331\n",
      "0.930363 -0.867033     3388.889426      i      23.857046\n",
      "0.930363 -0.867033     3388.910159      i      23.814679\n",
      "0.930363 -0.867033     3398.869595      i      23.461608\n",
      "0.930363 -0.867033      3398.89188      i      23.453763\n",
      "0.930363 -0.867033     3402.814135      z      22.429831\n",
      "0.930363 -0.867033     3402.837191      z      22.405305, <Table length=1338>\n",
      "fieldRA   fieldDec      expMJD     filter fiveSigmaDepth\n",
      "float64   float64      float64     str256    float64    \n",
      "-------- --------- --------------- ------ --------------\n",
      "5.830138 -0.607724             0.0      g      24.062997\n",
      "5.830138 -0.607724 0.0175920000038      g      24.115614\n",
      " 5.83889  -0.65815         8.16983      g      24.205675\n",
      "5.830138 -0.607724       16.012781      z      23.120357\n",
      "5.830138 -0.607724        16.02933      z      23.153655\n",
      " 5.83889  -0.65815       16.032108      z      23.157922\n",
      " 5.83889  -0.65815       16.054942      z       23.30816\n",
      " 5.83889  -0.65815       17.927167      z      22.293146\n",
      " 5.83889  -0.65815       17.944253      z      22.400039\n",
      "5.830138 -0.607724        17.94515      z      22.544091\n",
      "     ...       ...             ...    ...            ...\n",
      "5.830138 -0.607724     3400.758443      z      21.983052\n",
      " 5.83889  -0.65815     3400.769243      z        23.1682\n",
      " 5.83889  -0.65815     3402.756348      z      22.089239\n",
      " 5.83889  -0.65815     3402.769819      z      22.103112\n",
      " 5.83889  -0.65815     3435.811971      r      23.948063\n",
      " 5.83889  -0.65815      3435.82854      r      23.900869\n",
      "5.830138 -0.607724     3445.845812      z      22.062965\n",
      "5.830138 -0.607724     3446.815299      z      22.311396\n",
      "5.830138 -0.607724     3446.833309      z       22.17725\n",
      " 5.83889  -0.65815     3461.818848      i      23.611506, <Table length=672>\n",
      "fieldRA   fieldDec      expMJD     filter fiveSigmaDepth\n",
      "float64   float64      float64     str256    float64    \n",
      "-------- --------- --------------- ------ --------------\n",
      "6.127529 -1.018929             0.0      g      24.608436\n",
      "6.127529 -1.018929 0.0158810000066      g      24.492096\n",
      "6.127529 -1.018929        5.072115      z      21.652315\n",
      "6.127529 -1.018929   5.08811700001      z      21.681427\n",
      "6.127529 -1.018929   7.07797000001      z      21.960611\n",
      "6.127529 -1.018929       21.973233      z      21.916877\n",
      "6.127529 -1.018929       21.992144      z       21.87129\n",
      "6.127529 -1.018929       21.997549      z      21.886097\n",
      "6.127529 -1.018929       22.008383      z      21.861703\n",
      "6.127529 -1.018929       22.043176      z      22.285013\n",
      "     ...       ...             ...    ...            ...\n",
      "6.127529 -1.018929     3429.722983      r      23.842156\n",
      "6.127529 -1.018929     3429.738375      r      23.819951\n",
      "6.127529 -1.018929     3436.737222      i      23.469728\n",
      "6.127529 -1.018929     3436.759752      i      23.436733\n",
      "6.127529 -1.018929     3446.740412      z      22.219659\n",
      "6.127529 -1.018929     3446.753418      z      22.163913\n",
      "6.127529 -1.018929      3461.73219      i      23.690149\n",
      "6.127529 -1.018929     3462.741646      i      23.308432\n",
      "6.127529 -1.018929     3470.675906      z      21.770322\n",
      "6.127529 -1.018929     3470.690875      z      21.740253, <Table length=120>\n",
      "fieldRA   fieldDec   expMJD   filter fiveSigmaDepth\n",
      "float64   float64   float64   str256    float64    \n",
      "-------- --------- ---------- ------ --------------\n",
      "4.537495 -0.790249  37.954707      z      22.002745\n",
      "4.537495 -0.790249  37.963475      z      22.070327\n",
      "4.537495 -0.790249  37.994327      z      22.169752\n",
      "4.537495 -0.790249  38.913592      z      21.590343\n",
      "4.537495 -0.790249  38.919819      z      21.510563\n",
      "4.537495 -0.790249  38.920708      z      21.754839\n",
      "4.537495 -0.790249  38.945203      z      21.684674\n",
      "4.537495 -0.790249  38.948767      z      21.757317\n",
      "4.537495 -0.790249   47.02051      g      24.160512\n",
      "4.537495 -0.790249  47.021409      g      24.200285\n",
      "     ...       ...        ...    ...            ...\n",
      "4.537495 -0.790249 162.922145      g      23.801284\n",
      "4.537495 -0.790249 165.692759      r      24.307579\n",
      "4.537495 -0.790249 165.694121      r      24.378021\n",
      "4.537495 -0.790249  165.70456      r      24.317565\n",
      "4.537495 -0.790249 165.884783      r      24.163929\n",
      "4.537495 -0.790249 165.917127      r      23.897623\n",
      "4.537495 -0.790249 167.716015      g      24.167745\n",
      "4.537495 -0.790249 167.727809      g      24.069366\n",
      "4.537495 -0.790249  167.73504      g      24.160401\n",
      "4.537495 -0.790249 167.742301      g      24.241299, <Table length=675>\n",
      "fieldRA   fieldDec      expMJD     filter fiveSigmaDepth\n",
      "float64   float64      float64     str256    float64    \n",
      "-------- --------- --------------- ------ --------------\n",
      "0.489054 -0.790249             0.0      r      24.092432\n",
      "0.489054 -0.790249 0.0262599999987      r      24.038555\n",
      "0.489054 -0.790249 0.0996290000039      g      24.548645\n",
      "0.489054 -0.790249        0.117155      g      24.664134\n",
      "0.489054 -0.790249  0.134554000004      z      22.061407\n",
      "0.489054 -0.790249  0.148153000002      z      21.957966\n",
      "0.489054 -0.790249        2.007126      i      23.226526\n",
      "0.489054 -0.790249        2.030164      i      23.186128\n",
      "0.489054 -0.790249        7.022018      r      23.816383\n",
      "0.489054 -0.790249        8.038291      z      22.747627\n",
      "     ...       ...             ...    ...            ...\n",
      "0.489054 -0.790249     3380.953624      i      22.795882\n",
      "0.489054 -0.790249     3390.733861      z      21.540107\n",
      "0.489054 -0.790249     3413.913367      r      23.711432\n",
      "0.489054 -0.790249     3416.744149      z      21.808039\n",
      "0.489054 -0.790249     3416.816906      g      24.384995\n",
      "0.489054 -0.790249     3416.833559      g      24.357101\n",
      "0.489054 -0.790249     3430.866667      i      23.198665\n",
      "0.489054 -0.790249      3430.88992      i      23.136382\n",
      "0.489054 -0.790249     3434.788269      z      22.421467\n",
      "0.489054 -0.790249     3434.801628      z      22.389569, <Table length=668>\n",
      "fieldRA   fieldDec    expMJD   filter fiveSigmaDepth\n",
      "float64   float64    float64   str256    float64    \n",
      "-------- --------- ----------- ------ --------------\n",
      "2.759298 -0.876369    4.978629      i      23.755135\n",
      "2.759298 -0.876369    4.997468      i      23.576152\n",
      "2.759298 -0.876369   14.120585      z      22.005316\n",
      "2.759298 -0.876369   16.035192      i      23.036091\n",
      "2.759298 -0.876369   16.056891      i      23.187362\n",
      "2.759298 -0.876369   19.121941      z      21.830427\n",
      "2.759298 -0.876369   43.122833      z       22.38375\n",
      "2.759298 -0.876369   43.136592      z       21.97765\n",
      "2.759298 -0.876369   46.104066      i      23.004579\n",
      "2.759298 -0.876369    46.11438      i      22.968588\n",
      "     ...       ...         ...    ...            ...\n",
      "2.759298 -0.876369 3630.015671      i      23.750429\n",
      "2.759298 -0.876369   3630.0371      i      23.834164\n",
      "2.759298 -0.876369 3631.014234      i      23.423402\n",
      "2.759298 -0.876369 3631.034867      i      23.503303\n",
      "2.759298 -0.876369 3633.017298      g      24.444333\n",
      "2.759298 -0.876369  3633.03061      g      24.497957\n",
      "2.759298 -0.876369 3634.000522      g      24.488428\n",
      "2.759298 -0.876369 3634.014048      g      24.551028\n",
      "2.759298 -0.876369 3635.011889      r      23.712059\n",
      "2.759298 -0.876369 3635.028025      r       23.77216, <Table length=120>\n",
      "fieldRA   fieldDec   expMJD   filter fiveSigmaDepth\n",
      "float64   float64   float64   str256    float64    \n",
      "-------- --------- ---------- ------ --------------\n",
      "4.768928 -0.538682  25.963153      z      21.891474\n",
      "4.768928 -0.538682  25.964047      z      21.864202\n",
      "4.768928 -0.538682   25.97209      z      21.899555\n",
      "4.768928 -0.538682  26.008238      z      21.861609\n",
      "4.768928 -0.538682  26.947098      z      21.595221\n",
      "4.768928 -0.538682  43.956927      i      23.449913\n",
      "4.768928 -0.538682  43.969952      i      23.730893\n",
      "4.768928 -0.538682  44.905773      r      23.836103\n",
      "4.768928 -0.538682  44.953259      r      24.077013\n",
      "4.768928 -0.538682  45.879299      i      22.911607\n",
      "     ...       ...        ...    ...            ...\n",
      "4.768928 -0.538682 150.915148      g      23.775181\n",
      "4.768928 -0.538682 150.920089      g      23.670427\n",
      "4.768928 -0.538682 150.925473      g      23.603493\n",
      "4.768928 -0.538682 152.707962      r      23.621222\n",
      "4.768928 -0.538682  152.71698      r      23.819723\n",
      "4.768928 -0.538682 152.724651      r      23.815179\n",
      "4.768928 -0.538682 152.762368      r      24.229383\n",
      "4.768928 -0.538682  153.88858      r      24.135865\n",
      "4.768928 -0.538682 155.847808      g      24.137159\n",
      "4.768928 -0.538682 155.979723      g      23.281279]\n"
     ]
    },
    {
     "ename": "TypeError",
     "evalue": "list indices must be integers, not str",
     "output_type": "error",
     "traceback": [
      "\u001b[0;31m---------------------------------------------------------------------------\u001b[0m",
      "\u001b[0;31mTypeError\u001b[0m                                 Traceback (most recent call last)",
      "\u001b[0;32m<ipython-input-20-3a359e3f8f4b>\u001b[0m in \u001b[0;36m<module>\u001b[0;34m()\u001b[0m\n\u001b[1;32m      6\u001b[0m             \u001b[0mopsim\u001b[0m \u001b[0;34m=\u001b[0m \u001b[0mSurvey_Refine\u001b[0m\u001b[0;34m(\u001b[0m\u001b[0mopsim\u001b[0m\u001b[0;34m,\u001b[0m \u001b[0mtde_table\u001b[0m\u001b[0;34m)\u001b[0m\u001b[0;34m\u001b[0m\u001b[0m\n\u001b[1;32m      7\u001b[0m             \u001b[0;32mprint\u001b[0m \u001b[0mopsim\u001b[0m\u001b[0;34m\u001b[0m\u001b[0m\n\u001b[0;32m----> 8\u001b[0;31m             \u001b[0mtde_lc\u001b[0m \u001b[0;34m=\u001b[0m \u001b[0mInterpolate_LC\u001b[0m\u001b[0;34m(\u001b[0m\u001b[0mtde_table\u001b[0m\u001b[0;34m,\u001b[0m \u001b[0mopsim\u001b[0m\u001b[0;34m)\u001b[0m\u001b[0;34m\u001b[0m\u001b[0m\n\u001b[0m\u001b[1;32m      9\u001b[0m             \u001b[0mopsim\u001b[0m \u001b[0;34m=\u001b[0m \u001b[0mSurvey_Update\u001b[0m\u001b[0;34m(\u001b[0m\u001b[0mopsim\u001b[0m\u001b[0;34m,\u001b[0m \u001b[0mtde_lc\u001b[0m\u001b[0;34m)\u001b[0m\u001b[0;34m\u001b[0m\u001b[0m\n\u001b[1;32m     10\u001b[0m             \u001b[0mopsim\u001b[0m \u001b[0;34m=\u001b[0m \u001b[0mFind_Error\u001b[0m\u001b[0;34m(\u001b[0m\u001b[0mopsim\u001b[0m\u001b[0;34m)\u001b[0m\u001b[0;34m\u001b[0m\u001b[0m\n",
      "\u001b[0;32m<ipython-input-13-dae6fc56ec6b>\u001b[0m in \u001b[0;36mInterpolate_LC\u001b[0;34m(tde_table, opsim)\u001b[0m\n\u001b[1;32m      4\u001b[0m     \u001b[0;32mfor\u001b[0m \u001b[0mf\u001b[0m \u001b[0;32min\u001b[0m \u001b[0;34m[\u001b[0m\u001b[0;34m'g'\u001b[0m\u001b[0;34m,\u001b[0m \u001b[0;34m'r'\u001b[0m\u001b[0;34m,\u001b[0m \u001b[0;34m'i'\u001b[0m\u001b[0;34m,\u001b[0m \u001b[0;34m'z'\u001b[0m\u001b[0;34m]\u001b[0m\u001b[0;34m:\u001b[0m\u001b[0;34m\u001b[0m\u001b[0m\n\u001b[1;32m      5\u001b[0m         \u001b[0mfilter_match\u001b[0m \u001b[0;34m=\u001b[0m \u001b[0mnp\u001b[0m\u001b[0;34m.\u001b[0m\u001b[0mwhere\u001b[0m\u001b[0;34m(\u001b[0m\u001b[0mtde_table\u001b[0m\u001b[0;34m[\u001b[0m\u001b[0;34m'filter'\u001b[0m\u001b[0;34m]\u001b[0m \u001b[0;34m==\u001b[0m \u001b[0mf\u001b[0m\u001b[0;34m)\u001b[0m\u001b[0;34m\u001b[0m\u001b[0m\n\u001b[0;32m----> 6\u001b[0;31m         \u001b[0mtde_lc\u001b[0m\u001b[0;34m[\u001b[0m\u001b[0mf\u001b[0m\u001b[0;34m]\u001b[0m \u001b[0;34m=\u001b[0m \u001b[0mnp\u001b[0m\u001b[0;34m.\u001b[0m\u001b[0minterp\u001b[0m\u001b[0;34m(\u001b[0m\u001b[0mopsim\u001b[0m\u001b[0;34m[\u001b[0m\u001b[0;34m'expMJD'\u001b[0m\u001b[0;34m]\u001b[0m\u001b[0;34m,\u001b[0m \u001b[0mtde_table\u001b[0m\u001b[0;34m[\u001b[0m\u001b[0;34m'mjd'\u001b[0m\u001b[0;34m]\u001b[0m\u001b[0;34m[\u001b[0m\u001b[0mfilter_match\u001b[0m\u001b[0;34m]\u001b[0m\u001b[0;34m,\u001b[0m \u001b[0mtde_table\u001b[0m\u001b[0;34m[\u001b[0m\u001b[0;34m'mag'\u001b[0m\u001b[0;34m]\u001b[0m\u001b[0;34m[\u001b[0m\u001b[0mfilter_match\u001b[0m\u001b[0;34m]\u001b[0m\u001b[0;34m)\u001b[0m\u001b[0;34m\u001b[0m\u001b[0m\n\u001b[0m\u001b[1;32m      7\u001b[0m     \u001b[0mtde_lc\u001b[0m \u001b[0;34m=\u001b[0m \u001b[0mTable\u001b[0m\u001b[0;34m(\u001b[0m\u001b[0mtde_lc\u001b[0m\u001b[0;34m)\u001b[0m\u001b[0;34m\u001b[0m\u001b[0m\n\u001b[1;32m      8\u001b[0m     \u001b[0mtde_lc\u001b[0m\u001b[0;34m[\u001b[0m\u001b[0;34m'mjd'\u001b[0m\u001b[0;34m]\u001b[0m \u001b[0;34m=\u001b[0m \u001b[0mopsim\u001b[0m\u001b[0;34m[\u001b[0m\u001b[0;34m'expMJD'\u001b[0m\u001b[0;34m]\u001b[0m\u001b[0;34m\u001b[0m\u001b[0m\n",
      "\u001b[0;31mTypeError\u001b[0m: list indices must be integers, not str"
     ]
    }
   ],
   "source": [
    "for coord in range(len(bundle.metricValues)):\n",
    "    opsim = opsimlist[coord]\n",
    "    for mag in lowestpeakmag:\n",
    "        for day in lowestpeaktime:\n",
    "            tde_table = Peak_Change(peak, tde_table)\n",
    "            opsim = Survey_Refine(opsim, tde_table)\n",
    "            print opsim\n",
    "            tde_lc = Interpolate_LC(tde_table, opsim)\n",
    "            opsim = Survey_Update(opsim, tde_lc)\n",
    "            opsim = Find_Error(opsim)\n",
    "            plt.figure()\n",
    "            for f in ['g', 'r', 'i', 'z']:\n",
    "                filter_match = np.where(opsim['filter'] == f)\n",
    "                plt.errorbar(opsim['expMJD'][filter_match], opsim['magnitude'][filter_match],\n",
    "                             color = colors[f], fmt = '*', label = f)\n",
    "            plt.ylim(plt.ylim()[::-1])\n",
    "            plt.title('PS1-10jh resampled lightcurve, peakmag = %d and peaktime = %d' % (mag, day))\n",
    "            plt.xlabel('Day')\n",
    "            plt.ylabel('Magnitude')\n",
    "            tde_table = Peak_Change_Back(peak, tde_table)"
   ]
  },
  {
   "cell_type": "code",
   "execution_count": null,
   "metadata": {
    "collapsed": true
   },
   "outputs": [],
   "source": []
  }
 ],
 "metadata": {
  "kernelspec": {
   "display_name": "Python 2",
   "language": "python",
   "name": "python2"
  },
  "language_info": {
   "codemirror_mode": {
    "name": "ipython",
    "version": 2
   },
   "file_extension": ".py",
   "mimetype": "text/x-python",
   "name": "python",
   "nbconvert_exporter": "python",
   "pygments_lexer": "ipython2",
   "version": "2.7.12"
  }
 },
 "nbformat": 4,
 "nbformat_minor": 2
}
