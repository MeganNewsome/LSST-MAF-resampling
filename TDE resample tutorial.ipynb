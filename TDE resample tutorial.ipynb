{
 "cells": [
  {
   "cell_type": "markdown",
   "metadata": {},
   "source": [
    "# Step-by-step TDE resampling"
   ]
  },
  {
   "cell_type": "markdown",
   "metadata": {},
   "source": [
    "First, import all packages as needed."
   ]
  },
  {
   "cell_type": "code",
   "execution_count": 1,
   "metadata": {
    "collapsed": true
   },
   "outputs": [],
   "source": [
    "import numpy as np\n",
    "import matplotlib.pyplot as plt\n",
    "%matplotlib inline\n",
    "import healpy as hp\n",
    "import lsst.sims.maf.db as db\n",
    "import lsst.sims.maf.metrics as metrics\n",
    "import lsst.sims.maf.slicers as slicers\n",
    "import lsst.sims.maf.metricBundles as metricBundles\n",
    "import lsst.sims.maf.plots as plots\n",
    "import lsst.sims.maf.utils as utils\n",
    "from astropy.table import Table, Column\n",
    "import json"
   ]
  },
  {
   "cell_type": "markdown",
   "metadata": {},
   "source": [
    "Next, establish where the LSST simulations data is coming from, and where output data will go. This part should still use LSST's operations simulation database - the most recent is \"minion1016\" and is available here: https://www.lsst.org/scientists/simulations/opsim/opsim-survey-data."
   ]
  },
  {
   "cell_type": "code",
   "execution_count": 2,
   "metadata": {
    "collapsed": true
   },
   "outputs": [],
   "source": [
    "runName = 'minion_1016'\n",
    "opsdb = db.OpsimDatabase(runName + '_sqlite.db')\n",
    "outDir = 'Observations Dictionary'\n",
    "resultsDb = db.ResultsDb(outDir)"
   ]
  },
  {
   "cell_type": "markdown",
   "metadata": {},
   "source": [
    "Using MAF, establish points of evaluation, how to evaluate (slice) them, and any constraints. We use the \"pass\" metric to simply retrieve data from the operations simulation without altering it at all, and we slice the data based on RA and Dec values at uniform intervals. The sql constraint can be a limitation on the number of nights observed a limitation on the filters of interest, a combination thereof, etc. Then, the metric, slicer, and constraint are run together as a \"bundle.\" This bundle is then grouped with the previously setup opsim database (so the metrics know from where to retrieve data), the output directory, and the results database. Finally, the grouped bundle is ran to actually process all data."
   ]
  },
  {
   "cell_type": "code",
   "execution_count": 3,
   "metadata": {},
   "outputs": [
    {
     "name": "stdout",
     "output_type": "stream",
     "text": [
      "Querying database with no constraint.\n",
      "Found 2447931 visits\n",
      "Running:  [0]\n",
      "Completed metric generation.\n",
      "Running reduce methods.\n",
      "Running summary statistics.\n",
      "Completed.\n",
      "CPU times: user 30.9 s, sys: 1.46 s, total: 32.4 s\n",
      "Wall time: 32.5 s\n"
     ]
    }
   ],
   "source": [
    "metric = metrics.PassMetric(cols=['expMJD','filter','fiveSigmaDepth'])\n",
    "slicer = slicers.UserPointsSlicer(np.random.uniform(0,360,size=10),np.random.uniform(-60,-30,size=10))\n",
    "sql = ''\n",
    "\n",
    "bundle = metricBundles.MetricBundle(metric,slicer,sql)\n",
    "\n",
    "bg =  metricBundles.MetricBundleGroup({0:bundle}, opsdb, outDir=outDir, resultsDb=resultsDb)\n",
    "%time bg.runAll()"
   ]
  },
  {
   "cell_type": "markdown",
   "metadata": {},
   "source": [
    "# Setting up & Testing functions"
   ]
  },
  {
   "cell_type": "markdown",
   "metadata": {},
   "source": [
    "Now we want to set up a few functions that will be used to set up useful database tables, import outside data from a json file, and interpolate a lightcurve at the points of LSST's observations. While these could all be done on their own rather than set up as functions, this will make the final \"for\" loop overall much easier, since we want a robust system that can iterate over varying RA, Dec, peak magnitudes, and peak times."
   ]
  },
  {
   "cell_type": "markdown",
   "metadata": {},
   "source": [
    "This function simply tables a dictionary of the metric values we previously sliced and bundled, used by calling the \"metricValues\" from the bundle. In this case we have also \"cleaned up\" the table a bit: (1) subtracting the lowest \"expMJD\" value from each \"expMJD\" to have time listed in terms of day of observation, (2) sorting the data to be in order of observation time, and (3) ordering the table's columns. The next optional step is excluding the filters \"u\" and \"y\" because in the case of TDE PS1-10jh, there are not observations in those filters, so this data is unnecessary. This should be changed for a user with data in other filters as needed."
   ]
  },
  {
   "cell_type": "code",
   "execution_count": 25,
   "metadata": {
    "collapsed": true
   },
   "outputs": [],
   "source": [
    "def Survey_Setup(bundle):\n",
    "    opsimlist = []\n",
    "    for coord in range(len(bundle.metricValues)):\n",
    "        bdict = {key: bundle.metricValues[coord][key] for key in ['fieldRA', 'fieldDec', \n",
    "                                                                  'expMJD', 'filter', 'fiveSigmaDepth']}\n",
    "        opsim = Table(bdict)\n",
    "        opsim['expMJD'] = opsim['expMJD'] - opsim['expMJD'].min()\n",
    "        opsim.sort(['expMJD'])\n",
    "        opsim = opsim['fieldRA', 'fieldDec', 'expMJD','filter','fiveSigmaDepth']\n",
    "    \n",
    "        # Only do the following if you need to narrow simulation filters to those matching your lightcurve data\n",
    "        opsim = opsim[opsim['filter'] != 'u']\n",
    "        opsim = opsim[opsim['filter'] != 'y']\n",
    "        opsimlist.append(opsim)\n",
    "    return opsimlist"
   ]
  },
  {
   "cell_type": "markdown",
   "metadata": {},
   "source": [
    "The above function can do without a \"standardized\" test, as it is straightforward and has even been used with different LSST operations simulations databases. Because it uses the metricValues from the bundle, testing this function would also require a test of the already-made and trusted bundling function. We will instead demonstrate how it works below."
   ]
  },
  {
   "cell_type": "code",
   "execution_count": 26,
   "metadata": {},
   "outputs": [
    {
     "data": {
      "text/plain": [
       "[<Table length=120>\n",
       " fieldRA  fieldDec      expMJD     filter fiveSigmaDepth\n",
       " float64  float64      float64     str256    float64    \n",
       " -------- -------- --------------- ------ --------------\n",
       " 4.322605 -0.86838             0.0      i      23.042168\n",
       " 4.322605 -0.86838 0.0107320000025      i       23.18391\n",
       " 4.322605 -0.86838  0.951209999999      i      23.073645\n",
       " 4.322605 -0.86838  0.965004999998      i      23.084745\n",
       " 4.322605 -0.86838        0.965892      i      23.056753\n",
       " 4.322605 -0.86838        1.027795      i      21.708536\n",
       " 4.322605 -0.86838        1.954211      g      23.563324\n",
       " 4.322605 -0.86838        1.961321      g      23.693831\n",
       " 4.322605 -0.86838         1.96888      g      23.701138\n",
       " 4.322605 -0.86838        1.977792      g      23.614703\n",
       "      ...      ...             ...    ...            ...\n",
       " 4.322605 -0.86838      170.843007      g      24.182419\n",
       " 4.322605 -0.86838       170.85601      g      24.103202\n",
       " 4.322605 -0.86838      173.706147      r      24.209112\n",
       " 4.322605 -0.86838      173.729161      r      24.102679\n",
       " 4.322605 -0.86838      175.668618      g      24.040467\n",
       " 4.322605 -0.86838      175.680312      g      24.070341\n",
       " 4.322605 -0.86838      175.684846      g      24.119261\n",
       " 4.322605 -0.86838      175.804554      g       23.96574\n",
       " 4.322605 -0.86838      175.862313      g       23.80204\n",
       " 4.322605 -0.86838      176.874782      g       23.35735, <Table length=1349>\n",
       " fieldRA   fieldDec      expMJD     filter fiveSigmaDepth\n",
       " float64   float64      float64     str256    float64    \n",
       " -------- --------- --------------- ------ --------------\n",
       " 1.816458 -0.771136 0.0488299999997      z      21.723079\n",
       " 1.884955 -0.796742 0.0541930000036      z      21.789362\n",
       " 1.816458 -0.771136  0.745741999999      z      21.813173\n",
       " 1.884955 -0.796742        9.739739      z      21.961371\n",
       " 1.816458 -0.771136        9.744668      z      21.929763\n",
       " 1.884955 -0.796742        9.763476      z      22.752781\n",
       " 1.816458 -0.771136        9.768451      z      22.768237\n",
       " 1.884955 -0.796742       16.736676      z      21.955306\n",
       " 1.884955 -0.796742       16.750601      z      21.915912\n",
       " 1.816458 -0.771136       17.834134      r      23.706934\n",
       "      ...       ...             ...    ...            ...\n",
       " 1.884955 -0.796742     3623.987123      r      24.121775\n",
       " 1.816458 -0.771136     3623.988508      r      24.132698\n",
       " 1.884955 -0.796742     3625.855546      r      23.937218\n",
       " 1.816458 -0.771136     3625.855995      r      23.984449\n",
       " 1.884955 -0.796742     3625.871185      r      23.995854\n",
       " 1.816458 -0.771136     3625.871635      r      24.037582\n",
       " 1.816458 -0.771136     3632.823489      i      23.493433\n",
       " 1.816458 -0.771136      3632.84322      i      23.566843\n",
       " 1.884955 -0.796742     3635.822015      g      24.362302\n",
       " 1.884955 -0.796742     3635.846643      g      24.498685, <Table length=672>\n",
       " fieldRA   fieldDec      expMJD     filter fiveSigmaDepth\n",
       " float64   float64      float64     str256    float64    \n",
       " -------- --------- --------------- ------ --------------\n",
       " 6.244668 -0.841267             0.0      z      21.711631\n",
       " 6.244668 -0.841267 0.0128509999995      z      21.745376\n",
       " 6.244668 -0.841267        2.001362      z       22.07712\n",
       " 6.244668 -0.841267        2.013726      z      22.025086\n",
       " 6.244668 -0.841267       16.999971      z      21.868164\n",
       " 6.244668 -0.841267       19.918834      i      22.830596\n",
       " 6.244668 -0.841267       19.935076      i       22.98072\n",
       " 6.244668 -0.841267       19.947488      i      22.805269\n",
       " 6.244668 -0.841267       19.960627      i      22.733387\n",
       " 6.244668 -0.841267       22.970917      r      24.055637\n",
       "      ...       ...             ...    ...            ...\n",
       " 6.244668 -0.841267     3401.564173      z      21.709273\n",
       " 6.244668 -0.841267     3401.576792      z      21.734933\n",
       " 6.244668 -0.841267      3424.61773      r      23.964342\n",
       " 6.244668 -0.841267     3424.633339      r      23.959818\n",
       " 6.244668 -0.841267     3434.745979      i      22.939377\n",
       " 6.244668 -0.841267     3449.599759      z      21.779746\n",
       " 6.244668 -0.841267     3456.643281      i      23.859298\n",
       " 6.244668 -0.841267     3456.655591      i      23.813846\n",
       " 6.244668 -0.841267     3465.611517      z      21.825247\n",
       " 6.244668 -0.841267     3465.628536      z      22.390699, <Table length=659>\n",
       " fieldRA  fieldDec      expMJD     filter fiveSigmaDepth\n",
       " float64  float64      float64     str256    float64    \n",
       " ------- --------- --------------- ------ --------------\n",
       " 4.99246 -0.746802             0.0      i       23.29687\n",
       " 4.99246 -0.746802 0.0235590000011      i       23.45416\n",
       " 4.99246 -0.746802        2.984134      i      23.716712\n",
       " 4.99246 -0.746802        3.004491      i      23.775148\n",
       " 4.99246 -0.746802        3.086392      z      21.817057\n",
       " 4.99246 -0.746802        7.089257      z      22.227124\n",
       " 4.99246 -0.746802       36.099176      z      22.044528\n",
       " 4.99246 -0.746802       55.924176      z      22.733835\n",
       " 4.99246 -0.746802        55.94369      z      22.807654\n",
       " 4.99246 -0.746802       56.007174      z      22.547964\n",
       "     ...       ...             ...    ...            ...\n",
       " 4.99246 -0.746802     3390.676369      g      24.473218\n",
       " 4.99246 -0.746802     3391.659562      r       24.10276\n",
       " 4.99246 -0.746802     3391.673087      r      24.153926\n",
       " 4.99246 -0.746802     3405.641935      z      22.076939\n",
       " 4.99246 -0.746802     3406.644087      z      22.162293\n",
       " 4.99246 -0.746802     3419.737274      i       23.68953\n",
       " 4.99246 -0.746802     3419.763085      i      23.582219\n",
       " 4.99246 -0.746802     3432.662372      z      23.473153\n",
       " 4.99246 -0.746802     3456.718277      r      24.419243\n",
       " 4.99246 -0.746802     3456.731095      r      24.366368, <Table length=672>\n",
       " fieldRA   fieldDec     expMJD     filter fiveSigmaDepth\n",
       " float64   float64     float64     str256    float64    \n",
       " -------- --------- -------------- ------ --------------\n",
       " 6.062399 -0.924531            0.0      z      22.376741\n",
       " 6.062399 -0.924531 0.018802999999      z      22.348919\n",
       " 6.062399 -0.924531       4.057955      g      24.507706\n",
       " 6.062399 -0.924531       4.081705      g      24.672724\n",
       " 6.062399 -0.924531       9.160594      z      21.640611\n",
       " 6.062399 -0.924531      11.163308      z       21.98316\n",
       " 6.062399 -0.924531      21.926611      z      22.440712\n",
       " 6.062399 -0.924531      21.943599      z      22.303261\n",
       " 6.062399 -0.924531      26.079255      z      21.878543\n",
       " 6.062399 -0.924531      26.091881      z      21.851154\n",
       "      ...       ...            ...    ...            ...\n",
       " 6.062399 -0.924531    3439.770372      r      23.999438\n",
       " 6.062399 -0.924531    3439.788249      r      23.980805\n",
       " 6.062399 -0.924531    3450.818238      z      22.238959\n",
       " 6.062399 -0.924531    3450.833233      z      22.166569\n",
       " 6.062399 -0.924531    3465.796203      i       23.74612\n",
       " 6.062399 -0.924531    3465.811201      i      23.681544\n",
       " 6.062399 -0.924531    3465.815685      i      23.660632\n",
       " 6.062399 -0.924531    3472.793013      i      23.056467\n",
       " 6.062399 -0.924531    3474.770294      z      21.741034\n",
       " 6.062399 -0.924531    3474.787314      z      22.276828, <Table length=676>\n",
       " fieldRA   fieldDec    expMJD   filter fiveSigmaDepth\n",
       " float64   float64    float64   str256    float64    \n",
       " -------- --------- ----------- ------ --------------\n",
       " 2.179855 -1.048458         0.0      z      21.555522\n",
       " 2.179855 -1.048458   10.001751      z      22.097497\n",
       " 2.179855 -1.048458   10.016626      z        21.8774\n",
       " 2.179855 -1.048458   19.008522      i      21.519497\n",
       " 2.179855 -1.048458   26.684542      z      21.892718\n",
       " 2.179855 -1.048458   26.696623      z      21.728525\n",
       " 2.179855 -1.048458   57.674707      z      21.879859\n",
       " 2.179855 -1.048458   67.807681      r      23.599562\n",
       " 2.179855 -1.048458   67.819314      r      23.577019\n",
       " 2.179855 -1.048458   76.780726      i      22.978493\n",
       "      ...       ...         ...    ...            ...\n",
       " 2.179855 -1.048458 3620.847986      i      23.131135\n",
       " 2.179855 -1.048458 3620.869623      i       23.18959\n",
       " 2.179855 -1.048458 3620.903433      i      23.266127\n",
       " 2.179855 -1.048458 3620.926622      i      23.305322\n",
       " 2.179855 -1.048458 3626.859704      r      23.876232\n",
       " 2.179855 -1.048458 3626.879359      r      23.874729\n",
       " 2.179855 -1.048458 3635.813556      g      24.347895\n",
       " 2.179855 -1.048458 3635.840098      g      24.439849\n",
       " 2.179855 -1.048458  3641.81272      z      22.389999\n",
       " 2.179855 -1.048458 3641.828741      z      22.449861, <Table length=676>\n",
       " fieldRA   fieldDec     expMJD     filter fiveSigmaDepth\n",
       " float64   float64     float64     str256    float64    \n",
       " -------- --------- -------------- ------ --------------\n",
       " 0.713976 -0.966266            0.0      z      22.499211\n",
       " 0.713976 -0.966266 0.020620000003      z      21.992531\n",
       " 0.713976 -0.966266       0.986116      i       23.11405\n",
       " 0.713976 -0.966266 0.992088999999      i      23.131976\n",
       " 0.713976 -0.966266       2.874416      r      23.978246\n",
       " 0.713976 -0.966266       2.898241      r      23.891417\n",
       " 0.713976 -0.966266       2.903188      r      23.926441\n",
       " 0.713976 -0.966266       2.920403      r      24.070662\n",
       " 0.713976 -0.966266       2.936664      r      24.250555\n",
       " 0.713976 -0.966266       2.954858      r      24.171368\n",
       "      ...       ...            ...    ...            ...\n",
       " 0.713976 -0.966266     3383.74196      i      23.695813\n",
       " 0.713976 -0.966266    3385.709244      r        23.6568\n",
       " 0.713976 -0.966266    3385.734125      r      23.680772\n",
       " 0.713976 -0.966266    3396.851853      i      23.131839\n",
       " 0.713976 -0.966266      3401.7695      g      24.239559\n",
       " 0.713976 -0.966266    3401.787857      g      24.117533\n",
       " 0.713976 -0.966266    3413.758861      r      23.734205\n",
       " 0.713976 -0.966266    3413.774025      r      23.644314\n",
       " 0.713976 -0.966266    3414.784058      i      23.450339\n",
       " 0.713976 -0.966266    3414.806609      i      23.323498, <Table length=660>\n",
       " fieldRA   fieldDec      expMJD     filter fiveSigmaDepth\n",
       " float64   float64      float64     str256    float64    \n",
       " -------- --------- --------------- ------ --------------\n",
       " 3.141593 -0.943427             0.0      z      21.872943\n",
       " 3.141593 -0.943427 0.0131600000022      z      21.786352\n",
       " 3.141593 -0.943427         2.87118      g      24.092913\n",
       " 3.141593 -0.943427        2.890186      g      24.191941\n",
       " 3.141593 -0.943427        6.826565      i      23.612165\n",
       " 3.141593 -0.943427        6.846973      i      23.618122\n",
       " 3.141593 -0.943427       19.018208      z      22.094478\n",
       " 3.141593 -0.943427       19.030854      z      22.149747\n",
       " 3.141593 -0.943427       25.034566      z       22.27368\n",
       " 3.141593 -0.943427       27.014514      i      23.130573\n",
       "      ...       ...             ...    ...            ...\n",
       " 3.141593 -0.943427     3457.602634      z      22.182163\n",
       " 3.141593 -0.943427       3461.6558      r       23.94328\n",
       " 3.141593 -0.943427     3461.674822      r      23.859546\n",
       " 3.141593 -0.943427     3608.957194      i      23.301817\n",
       " 3.141593 -0.943427     3611.960704      i      23.405345\n",
       " 3.141593 -0.943427     3620.995533      z      21.861688\n",
       " 3.141593 -0.943427     3621.928519      z      22.220421\n",
       " 3.141593 -0.943427     3621.946771      z      22.344161\n",
       " 3.141593 -0.943427     3621.953084      z      22.383736\n",
       " 3.141593 -0.943427      3621.96869      z      22.459937, <Table length=675>\n",
       " fieldRA   fieldDec     expMJD     filter fiveSigmaDepth\n",
       " float64   float64     float64     str256    float64    \n",
       " -------- --------- -------------- ------ --------------\n",
       " 0.840075 -0.805815            0.0      g      24.676591\n",
       " 0.840075 -0.805815 0.016429000003      g      24.710576\n",
       " 0.840075 -0.805815       1.092845      i      23.925214\n",
       " 0.840075 -0.805815       1.102917      z      22.213469\n",
       " 0.840075 -0.805815       2.023847      g      24.534521\n",
       " 0.840075 -0.805815       2.043678      g      24.700489\n",
       " 0.840075 -0.805815       3.096865      z      22.039781\n",
       " 0.840075 -0.805815       5.037162      i      23.399016\n",
       " 0.840075 -0.805815        5.06308      i      23.551084\n",
       " 0.840075 -0.805815       7.020385      i      23.829227\n",
       "      ...       ...            ...    ...            ...\n",
       " 0.840075 -0.805815    3367.794568      i      23.545969\n",
       " 0.840075 -0.805815    3367.816383      i      23.585929\n",
       " 0.840075 -0.805815    3375.793207      i      23.378709\n",
       " 0.840075 -0.805815    3375.811748      i      23.409985\n",
       " 0.840075 -0.805815    3387.851327      r      24.077304\n",
       " 0.840075 -0.805815    3387.870129      r        24.0178\n",
       " 0.840075 -0.805815    3390.860784      g      24.363292\n",
       " 0.840075 -0.805815    3390.875366      g       24.31165\n",
       " 0.840075 -0.805815    3404.849815      i      23.425128\n",
       " 0.840075 -0.805815    3404.870414      i      23.406018, <Table length=655>\n",
       " fieldRA   fieldDec      expMJD     filter fiveSigmaDepth\n",
       " float64   float64      float64     str256    float64    \n",
       " -------- --------- --------------- ------ --------------\n",
       " 3.394242 -0.951959             0.0      g      24.144556\n",
       " 3.394242 -0.951959 0.0227809999997      g      24.108069\n",
       " 3.394242 -0.951959         6.07633      z      22.115917\n",
       " 3.394242 -0.951959        7.071614      z      22.052058\n",
       " 3.394242 -0.951959        7.084821      z      22.022994\n",
       " 3.394242 -0.951959        9.074985      z      22.098545\n",
       " 3.394242 -0.951959       10.073839      z      22.020825\n",
       " 3.394242 -0.951959       12.062133      z      22.789133\n",
       " 3.394242 -0.951959       12.082788      z      22.297539\n",
       " 3.394242 -0.951959       41.082688      z      21.642445\n",
       "      ...       ...             ...    ...            ...\n",
       " 3.394242 -0.951959     3395.861772      g      24.565621\n",
       " 3.394242 -0.951959     3402.820225      z      22.195302\n",
       " 3.394242 -0.951959     3402.838679      z      22.145942\n",
       " 3.394242 -0.951959     3426.723445      r      24.037929\n",
       " 3.394242 -0.951959     3426.742767      r      24.007602\n",
       " 3.394242 -0.951959     3444.653029      z      22.217009\n",
       " 3.394242 -0.951959     3444.699668      i      23.831732\n",
       " 3.394242 -0.951959     3444.717429      i      23.788793\n",
       " 3.394242 -0.951959     3450.665249      z      21.897339\n",
       " 3.394242 -0.951959     3608.040135      z      21.776072]"
      ]
     },
     "execution_count": 26,
     "metadata": {},
     "output_type": "execute_result"
    }
   ],
   "source": [
    "opsimlist = Survey_Setup(bundle)\n",
    "opsimlist"
   ]
  },
  {
   "cell_type": "markdown",
   "metadata": {},
   "source": [
    "Now that we have our operations simulations data selected and ordered, we want to start importing the lightcurve data of the TDE. Actual science procedures utilize the data for TDE PS1-10jh, which can be found here along with plenty of other data for potential TDEs: https://tde.space/. Note that all of these files are in the json format. We will be using a much smaller, made-up json file with arbitrary data in order to \"test\" the function."
   ]
  },
  {
   "cell_type": "code",
   "execution_count": 6,
   "metadata": {
    "collapsed": true
   },
   "outputs": [],
   "source": [
    "def TDE_raw(jsonfile):\n",
    "    # Open and load json file with TDE values\n",
    "    tde_data = open(jsonfile)\n",
    "    tde = json.load(tde_data)\n",
    "    # Set up dictionary for json data\n",
    "    data = {'mjd': [], 'filter': [], 'mag': [], 'magerror': [], 'upperlimit': []}\n",
    "    # Use for loop to call to values within the json file\n",
    "    for entry in tde['jsontest']['photometry']:\n",
    "        # Ignore instances in which 'band' and 'magnitude' have no data\n",
    "        if 'band' in entry and 'magnitude' in entry:\n",
    "            data['mjd'].append(float(entry['time']))\n",
    "            data['filter'].append(entry['band'])\n",
    "            data['mag'].append(float(entry['magnitude']))\n",
    "            # Ignore instances in which 'upperlimit' has no value (i.e. is 'false')\n",
    "            if 'upperlimit' in entry:\n",
    "                data['upperlimit'].append(entry['upperlimit'])\n",
    "            else:\n",
    "                data['upperlimit'].append(False)\n",
    "            # Ignore instances in which 'e_magnitude' has no value (i.e. upperlimit IS the error)\n",
    "            if 'e_magnitude' in entry:\n",
    "                data['magerror'].append(float(entry['e_magnitude']))\n",
    "            else:\n",
    "                data['magerror'].append(99)\n",
    "    # Table the now-full dictionary of TDE data\n",
    "    tde_table = Table(data)\n",
    "    # Update the table to modify the data for magnitude errors no more than 0.3, no upperlimit values,\n",
    "    # mjd in terms of obvservation day number, and filters in only g, r, i, and z.\n",
    "    tde_table = tde_table[tde_table['magerror'] < 0.3]\n",
    "    tde_table = tde_table[tde_table['upperlimit'] == False]\n",
    "    tde_table['mjd'] = tde_table['mjd'] - tde_table['mjd'].min()\n",
    "    tde_table = tde_table[tde_table['filter'] != 'NUV']\n",
    "    tde_table = tde_table[tde_table['filter'] != 'F225W']\n",
    "    return tde_table"
   ]
  },
  {
   "cell_type": "markdown",
   "metadata": {},
   "source": [
    "Below, we run TDE_raw with any .json file, and then plot it to show that it is reading in the data correctly."
   ]
  },
  {
   "cell_type": "code",
   "execution_count": 7,
   "metadata": {},
   "outputs": [
    {
     "data": {
      "text/plain": [
       "<matplotlib.legend.Legend at 0x7f77def22690>"
      ]
     },
     "execution_count": 7,
     "metadata": {},
     "output_type": "execute_result"
    },
    {
     "data": {
      "image/png": "[encoded data removed]",
      "text/plain": [
       "<matplotlib.figure.Figure at 0x7f77daa9b350>"
      ]
     },
     "metadata": {},
     "output_type": "display_data"
    }
   ],
   "source": [
    "colors = {'g':'green','r':'red','i':'blue','z':'purple'}\n",
    "tde_table = TDE_raw('jsontest.json')\n",
    "# Plot the lightcurve from the narrowed points with respect to each filter\n",
    "\n",
    "for f in ['g', 'r', 'i', 'z']:\n",
    "    filter_match = tde_table['filter'] == f\n",
    "    plt.errorbar(tde_table['mjd'][filter_match], tde_table['mag'][filter_match], \n",
    "                 yerr=tde_table['magerror'][filter_match], fmt='*', color=colors[f], label = f)\n",
    "plt.ylim(plt.ylim()[::-1])\n",
    "plt.title('jsontest lightcurve')\n",
    "plt.xlabel('Day')\n",
    "plt.ylabel('Magnitude')\n",
    "plt.legend(loc=\"upper left\", bbox_to_anchor=(1,1))"
   ]
  },
  {
   "cell_type": "markdown",
   "metadata": {},
   "source": [
    "The next function identifies where the peak is in your input lightcurve data. This is useful for general analysis, but also allows the peak magnitude and time of peak to be manipulated in each filter later on."
   ]
  },
  {
   "cell_type": "code",
   "execution_count": 8,
   "metadata": {
    "collapsed": true
   },
   "outputs": [],
   "source": [
    "def Create_Peak(tde_table):\n",
    "    peak = {}\n",
    "    for f in ['g', 'r', 'i', 'z']:\n",
    "        filter_match = np.where(tde_table['filter'] == f)\n",
    "        maxmag = np.amin(tde_table['mag'][filter_match])\n",
    "        row = np.argmin(tde_table['mag'][filter_match])\n",
    "        maxday = tde_table['mjd'][filter_match][row]\n",
    "        peak[f] = (maxday, maxmag)\n",
    "    peak = Table(peak)\n",
    "    peak[''] = ['peaktime_raw', 'peakmagmag_raw']\n",
    "    peak = peak['', 'g','r','i','z']\n",
    "    return peak"
   ]
  },
  {
   "cell_type": "code",
   "execution_count": 9,
   "metadata": {},
   "outputs": [
    {
     "data": {
      "text/html": [
       "&lt;Table length=2&gt;\n",
       "<table id=\"table140152819112144\" class=\"table-striped table-bordered table-condensed\">\n",
       "<thead><tr><th>col0</th><th>g</th><th>r</th><th>i</th><th>z</th></tr></thead>\n",
       "<thead><tr><th>str14</th><th>float64</th><th>float64</th><th>float64</th><th>float64</th></tr></thead>\n",
       "<tr><td>peaktime_raw</td><td>50.0</td><td>51.0</td><td>52.0</td><td>53.0</td></tr>\n",
       "<tr><td>peakmagmag_raw</td><td>19.5</td><td>19.7</td><td>19.9</td><td>20.1</td></tr>\n",
       "</table>"
      ],
      "text/plain": [
       "<Table length=2>\n",
       "     col0         g       r       i       z   \n",
       "    str14      float64 float64 float64 float64\n",
       "-------------- ------- ------- ------- -------\n",
       "  peaktime_raw    50.0    51.0    52.0    53.0\n",
       "peakmagmag_raw    19.5    19.7    19.9    20.1"
      ]
     },
     "execution_count": 9,
     "metadata": {},
     "output_type": "execute_result"
    }
   ],
   "source": [
    "peak = Create_Peak(tde_table)\n",
    "peak"
   ]
  },
  {
   "cell_type": "markdown",
   "metadata": {},
   "source": [
    "The following function changes the magnitude and time of the peak for variations of the original lightcurve to be created. This is tested in the final \"for\" loop."
   ]
  },
  {
   "cell_type": "code",
   "execution_count": 10,
   "metadata": {
    "collapsed": true
   },
   "outputs": [],
   "source": [
    "def Peak_Change(peak, tde_table):\n",
    "    magdiff = peak['r'][1] - mag\n",
    "    timediff = peak['r'][0] - day\n",
    "    tde_table['mag'] = tde_table['mag'] - magdiff\n",
    "    tde_table['mjd'] = tde_table['mjd'] - timediff\n",
    "    return tde_table"
   ]
  },
  {
   "cell_type": "markdown",
   "metadata": {},
   "source": [
    "Below, we refine the survey to list the days only as far as the lightcurve goes. This changes as we change our day for \"peaktime\" so there is no concern about missing parts of the survey."
   ]
  },
  {
   "cell_type": "code",
   "execution_count": 30,
   "metadata": {},
   "outputs": [],
   "source": [
    "def Survey_Refine(opsim, tde_table):\n",
    "    # Setup empty dictionary for interpolated lightcurve \n",
    "    tde_lc = {}\n",
    "    opsim = opsim[opsim['expMJD'] < tde_table['mjd'].max()]\n",
    "    opsim = opsim[opsim['expMJD'] > tde_table['mjd'].min()]\n",
    "    return opsimlist"
   ]
  },
  {
   "cell_type": "code",
   "execution_count": 12,
   "metadata": {
    "collapsed": true
   },
   "outputs": [],
   "source": [
    "def Interpolate_LC(tde_table, opsim):\n",
    "    # Interpolate lightcurve for days of LSST survey\n",
    "    tde_lc = {}\n",
    "    for f in ['g', 'r', 'i', 'z']:\n",
    "        filter_match = np.where(tde_table['filter'] == f)\n",
    "        tde_lc[f] = np.interp(opsim['expMJD'], tde_table['mjd'][filter_match], tde_table['mag'][filter_match])\n",
    "    tde_lc = Table(tde_lc)\n",
    "    tde_lc['mjd'] = opsim['expMJD']\n",
    "    tde_lc = tde_lc['mjd', 'g', 'r', 'i', 'z']\n",
    "    return tde_lc"
   ]
  },
  {
   "cell_type": "code",
   "execution_count": 13,
   "metadata": {
    "collapsed": true
   },
   "outputs": [],
   "source": [
    "def Survey_Update(opsim, tde_lc):    \n",
    "    # Add a column to the simulation table to include the lightcurve mags, and fill in mag wrt filter\n",
    "    # This also only finds the data from the lightcurve data in which the \"mjd\" matches with the simulation\n",
    "    # Hence this \"resamples\" the lightcurve\n",
    "    opsim['magnitude'] = 0.0\n",
    "    for row in range(len(opsim)):\n",
    "        filterName = opsim['filter'][row]\n",
    "        opsim['magnitude'][row] = tde_lc[filterName][row]\n",
    "    return opsim"
   ]
  },
  {
   "cell_type": "code",
   "execution_count": 14,
   "metadata": {
    "collapsed": true
   },
   "outputs": [],
   "source": [
    "def Find_Error(opsim):\n",
    "    # Find error based off of 5sigDepth, and add it to the table with magnitudes\n",
    "    snr = 5*(10**((-0.4)*(opsim['magnitude'] - opsim['fiveSigmaDepth'])))\n",
    "    tde_err = 2.5/(snr*np.log(10))\n",
    "    opsim['tde_err'] = tde_err\n",
    "    return opsim"
   ]
  },
  {
   "cell_type": "code",
   "execution_count": 15,
   "metadata": {
    "collapsed": true
   },
   "outputs": [],
   "source": [
    "def Peak_Change_Back(peak, tde_table):\n",
    "    magdiff = peak['r'][1] - mag\n",
    "    timediff = peak['r'][0] - day\n",
    "    tde_table['mag'] = tde_table['mag'] + magdiff\n",
    "    tde_table['mjd'] = tde_table['mjd'] + timediff\n",
    "    return tde_table"
   ]
  },
  {
   "cell_type": "code",
   "execution_count": 16,
   "metadata": {},
   "outputs": [],
   "source": [
    "lowestpeakmag = np.arange(19, 22, 1)\n",
    "lowestpeaktime = np.arange(38, 43, 1)\n",
    "colors = {'g':'green','r':'red','i':'blue','z':'purple'}"
   ]
  },
  {
   "cell_type": "code",
   "execution_count": 29,
   "metadata": {},
   "outputs": [
    {
     "ename": "TypeError",
     "evalue": "list indices must be integers, not str",
     "output_type": "error",
     "traceback": [
      "\u001b[0;31m---------------------------------------------------------------------------\u001b[0m",
      "\u001b[0;31mTypeError\u001b[0m                                 Traceback (most recent call last)",
      "\u001b[0;32m<ipython-input-29-55c9a5df3e00>\u001b[0m in \u001b[0;36m<module>\u001b[0;34m()\u001b[0m\n\u001b[1;32m      5\u001b[0m             \u001b[0mtde_table\u001b[0m \u001b[0;34m=\u001b[0m \u001b[0mPeak_Change\u001b[0m\u001b[0;34m(\u001b[0m\u001b[0mpeak\u001b[0m\u001b[0;34m,\u001b[0m \u001b[0mtde_table\u001b[0m\u001b[0;34m)\u001b[0m\u001b[0;34m\u001b[0m\u001b[0m\n\u001b[1;32m      6\u001b[0m             \u001b[0mopsim\u001b[0m \u001b[0;34m=\u001b[0m \u001b[0mSurvey_Refine\u001b[0m\u001b[0;34m(\u001b[0m\u001b[0mopsim\u001b[0m\u001b[0;34m,\u001b[0m \u001b[0mtde_table\u001b[0m\u001b[0;34m)\u001b[0m\u001b[0;34m\u001b[0m\u001b[0m\n\u001b[0;32m----> 7\u001b[0;31m             \u001b[0mtde_lc\u001b[0m \u001b[0;34m=\u001b[0m \u001b[0mInterpolate_LC\u001b[0m\u001b[0;34m(\u001b[0m\u001b[0mtde_table\u001b[0m\u001b[0;34m,\u001b[0m \u001b[0mopsim\u001b[0m\u001b[0;34m)\u001b[0m\u001b[0;34m\u001b[0m\u001b[0m\n\u001b[0m\u001b[1;32m      8\u001b[0m             \u001b[0mopsim\u001b[0m \u001b[0;34m=\u001b[0m \u001b[0mSurvey_Update\u001b[0m\u001b[0;34m(\u001b[0m\u001b[0mopsim\u001b[0m\u001b[0;34m,\u001b[0m \u001b[0mtde_lc\u001b[0m\u001b[0;34m)\u001b[0m\u001b[0;34m\u001b[0m\u001b[0m\n\u001b[1;32m      9\u001b[0m             \u001b[0mopsim\u001b[0m \u001b[0;34m=\u001b[0m \u001b[0mFind_Error\u001b[0m\u001b[0;34m(\u001b[0m\u001b[0mopsim\u001b[0m\u001b[0;34m)\u001b[0m\u001b[0;34m\u001b[0m\u001b[0m\n",
      "\u001b[0;32m<ipython-input-12-dae6fc56ec6b>\u001b[0m in \u001b[0;36mInterpolate_LC\u001b[0;34m(tde_table, opsim)\u001b[0m\n\u001b[1;32m      4\u001b[0m     \u001b[0;32mfor\u001b[0m \u001b[0mf\u001b[0m \u001b[0;32min\u001b[0m \u001b[0;34m[\u001b[0m\u001b[0;34m'g'\u001b[0m\u001b[0;34m,\u001b[0m \u001b[0;34m'r'\u001b[0m\u001b[0;34m,\u001b[0m \u001b[0;34m'i'\u001b[0m\u001b[0;34m,\u001b[0m \u001b[0;34m'z'\u001b[0m\u001b[0;34m]\u001b[0m\u001b[0;34m:\u001b[0m\u001b[0;34m\u001b[0m\u001b[0m\n\u001b[1;32m      5\u001b[0m         \u001b[0mfilter_match\u001b[0m \u001b[0;34m=\u001b[0m \u001b[0mnp\u001b[0m\u001b[0;34m.\u001b[0m\u001b[0mwhere\u001b[0m\u001b[0;34m(\u001b[0m\u001b[0mtde_table\u001b[0m\u001b[0;34m[\u001b[0m\u001b[0;34m'filter'\u001b[0m\u001b[0;34m]\u001b[0m \u001b[0;34m==\u001b[0m \u001b[0mf\u001b[0m\u001b[0;34m)\u001b[0m\u001b[0;34m\u001b[0m\u001b[0m\n\u001b[0;32m----> 6\u001b[0;31m         \u001b[0mtde_lc\u001b[0m\u001b[0;34m[\u001b[0m\u001b[0mf\u001b[0m\u001b[0;34m]\u001b[0m \u001b[0;34m=\u001b[0m \u001b[0mnp\u001b[0m\u001b[0;34m.\u001b[0m\u001b[0minterp\u001b[0m\u001b[0;34m(\u001b[0m\u001b[0mopsim\u001b[0m\u001b[0;34m[\u001b[0m\u001b[0;34m'expMJD'\u001b[0m\u001b[0;34m]\u001b[0m\u001b[0;34m,\u001b[0m \u001b[0mtde_table\u001b[0m\u001b[0;34m[\u001b[0m\u001b[0;34m'mjd'\u001b[0m\u001b[0;34m]\u001b[0m\u001b[0;34m[\u001b[0m\u001b[0mfilter_match\u001b[0m\u001b[0;34m]\u001b[0m\u001b[0;34m,\u001b[0m \u001b[0mtde_table\u001b[0m\u001b[0;34m[\u001b[0m\u001b[0;34m'mag'\u001b[0m\u001b[0;34m]\u001b[0m\u001b[0;34m[\u001b[0m\u001b[0mfilter_match\u001b[0m\u001b[0;34m]\u001b[0m\u001b[0;34m)\u001b[0m\u001b[0;34m\u001b[0m\u001b[0m\n\u001b[0m\u001b[1;32m      7\u001b[0m     \u001b[0mtde_lc\u001b[0m \u001b[0;34m=\u001b[0m \u001b[0mTable\u001b[0m\u001b[0;34m(\u001b[0m\u001b[0mtde_lc\u001b[0m\u001b[0;34m)\u001b[0m\u001b[0;34m\u001b[0m\u001b[0m\n\u001b[1;32m      8\u001b[0m     \u001b[0mtde_lc\u001b[0m\u001b[0;34m[\u001b[0m\u001b[0;34m'mjd'\u001b[0m\u001b[0;34m]\u001b[0m \u001b[0;34m=\u001b[0m \u001b[0mopsim\u001b[0m\u001b[0;34m[\u001b[0m\u001b[0;34m'expMJD'\u001b[0m\u001b[0;34m]\u001b[0m\u001b[0;34m\u001b[0m\u001b[0m\n",
      "\u001b[0;31mTypeError\u001b[0m: list indices must be integers, not str"
     ]
    }
   ],
   "source": [
    "for coord in range(len(bundle.metricValues)):\n",
    "    opsim = opsimlist[coord]\n",
    "    for mag in lowestpeakmag:\n",
    "        for day in lowestpeaktime:\n",
    "            tde_table = Peak_Change(peak, tde_table)\n",
    "            opsim = Survey_Refine(opsim, tde_table)\n",
    "            tde_lc = Interpolate_LC(tde_table, opsim)\n",
    "            opsim = Survey_Update(opsim, tde_lc)\n",
    "            opsim = Find_Error(opsim)\n",
    "            plt.figure()\n",
    "            for f in ['g', 'r', 'i', 'z']:\n",
    "                filter_match = np.where(opsim['filter'] == f)\n",
    "                plt.errorbar(opsim['expMJD'][filter_match], opsim['magnitude'][filter_match],\n",
    "                             color = colors[f], fmt = '*', label = f)\n",
    "            plt.ylim(plt.ylim()[::-1])\n",
    "            plt.title('PS1-10jh resampled lightcurve, peakmag = %d and peaktime = %d' % (mag, day))\n",
    "            plt.xlabel('Day')\n",
    "            plt.ylabel('Magnitude')\n",
    "            tde_table = Peak_Change_Back(peak, tde_table)"
   ]
  },
  {
   "cell_type": "code",
   "execution_count": null,
   "metadata": {
    "collapsed": true
   },
   "outputs": [],
   "source": []
  }
 ],
 "metadata": {
  "kernelspec": {
   "display_name": "Python 2",
   "language": "python",
   "name": "python2"
  },
  "language_info": {
   "codemirror_mode": {
    "name": "ipython",
    "version": 2
   },
   "file_extension": ".py",
   "mimetype": "text/x-python",
   "name": "python",
   "nbconvert_exporter": "python",
   "pygments_lexer": "ipython2",
   "version": "2.7.12"
  }
 },
 "nbformat": 4,
 "nbformat_minor": 2
}
